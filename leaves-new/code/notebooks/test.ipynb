{
 "cells": [
  {
   "cell_type": "code",
   "execution_count": 56,
   "metadata": {},
   "outputs": [],
   "source": [
    "import numpy as np\n",
    "from path import Path\n",
    "import matplotlib.pyplot as plt\n",
    "from glob import glob\n",
    "from tqdm import tqdm\n",
    "import os\n",
    "import sys\n",
    "sys.path.append('../')\n",
    "import random\n",
    "from tool.data_io import get_data_paths,read_image, read_json, save_image, try_create_dir,save_json\n",
    "from tool.yaml_io import write_to_yaml,read_from_yaml\n",
    "from tool.plt_utils import plt_samples"
   ]
  },
  {
   "cell_type": "code",
   "execution_count": 57,
   "metadata": {},
   "outputs": [],
   "source": [
    "import random\n",
    "\n",
    "from PIL import Image\n",
    "from torchvision import transforms\n",
    "import numpy\n",
    "import torch\n",
    "import copy\n",
    "import numpy as np\n",
    "import sys\n",
    "import cv2\n",
    "from path import Path\n",
    "sys.path.append('../')\n",
    "\n",
    "from transforms.transform import *\n",
    "from tool.data_io import read_image, save_image\n",
    "from tool.yaml_io import namespace_to_dict"
   ]
  },
  {
   "cell_type": "code",
   "execution_count": 58,
   "metadata": {},
   "outputs": [],
   "source": [
    "def set_labels(label_file):\n",
    "    labels = read_json(label_file)\n",
    "    label_ids = set()\n",
    "    label_names = set()\n",
    "    for species in labels.keys():\n",
    "        for (idx, item) in labels[species].items():\n",
    "            label_ids.add(item['number'])\n",
    "            label_names.add(item['label'])\n",
    "    return labels"
   ]
  },
  {
   "cell_type": "code",
   "execution_count": 55,
   "metadata": {},
   "outputs": [
    {
     "name": "stderr",
     "output_type": "stream",
     "text": [
      "  0%|          | 0/28 [00:00<?, ?it/s]"
     ]
    },
    {
     "name": "stdout",
     "output_type": "stream",
     "text": [
      "qb hole\n",
      "quercus-bicolor-herbivory/00000611_999045\n"
     ]
    },
    {
     "data": {
      "image/png": "[encoded data removed]",
      "text/plain": [
       "<Figure size 1440x2160 with 2 Axes>"
      ]
     },
     "metadata": {
      "needs_background": "light"
     },
     "output_type": "display_data"
    },
    {
     "name": "stderr",
     "output_type": "stream",
     "text": [
      "  0%|          | 0/28 [00:01<?, ?it/s]\n",
      "  0%|          | 0/98 [00:00<?, ?it/s]"
     ]
    },
    {
     "name": "stdout",
     "output_type": "stream",
     "text": [
      "qb hole\n",
      "quercus-bicolor-herbivory/00000467_4585361\n"
     ]
    },
    {
     "data": {
      "image/png": "[encoded data removed]",
      "text/plain": [
       "<Figure size 1440x2160 with 2 Axes>"
      ]
     },
     "metadata": {
      "needs_background": "light"
     },
     "output_type": "display_data"
    },
    {
     "name": "stderr",
     "output_type": "stream",
     "text": [
      "  0%|          | 0/98 [00:01<?, ?it/s]\n"
     ]
    }
   ],
   "source": [
    "phases = ['validation', 'testing']\n",
    "dtypes = ['hole'] #,'skel','hole'\n",
    "species_types = ['qb'] #'qb', 'os', \n",
    "r = Resize()\n",
    "iter_ = 1\n",
    "i = 0\n",
    "for phase in phases:\n",
    "    for d_type in dtypes:\n",
    "        for species_type in species_types:\n",
    "            print(species_type, d_type)\n",
    "            data_type = f'{species_type}_{d_type}' #'ep300_ql_sk' #f'e{epoch}_al05' #f'e{epoch}_s1r95p05_mask', 'ep1_a001_b11_beta2_mar01'\n",
    "            partition = read_json(f'../../stats/partition_{species_type}_{d_type}.json')  #'../../stats/partition_os_hole.json'\n",
    "            root_leaves = Path('/usr/xtmp/xs75/leaves/datasets/leaves')\n",
    "            root_acts = Path('/usr/xtmp/xs75/leaves/datasets/acts/image')\n",
    "            labels_map = set_labels(f'../../stats/label_{d_type}.json' )# ../../stats/label_file_common_binary.json' ../../stats/label_skel.json\n",
    "            root=root_acts\n",
    "            id2paths = partition[phase]['images']\n",
    "\n",
    "        \n",
    "            for path in tqdm(glob(root/phase/f'*/{data_type}/*.npy')):\n",
    "                id_ = os.path.join(path.split('/')[-3:][0], (path.split('/')[-4:][-1]).split('.')[0] )\n",
    "                if id_ not in id2paths.keys(): \n",
    "                    continue\n",
    "                print(id_)\n",
    "                label, pl_label = read_image(root_leaves/id2paths[id_]['label'])\n",
    "                image,_ = read_image(root_leaves/id2paths[id_]['image'])\n",
    "                img_cp = image.copy()\n",
    "                \n",
    "                species,name = id_.split('/')\n",
    "                for key, value in labels_map[species].items():\n",
    "                    label[label == int(key)] = value['number']\n",
    "                label_cp = label.copy()\n",
    "                m,n, c = image.shape\n",
    "                leaf_mask, _ = read_image(root_leaves/id2paths[id_]['leaf_mask'])\n",
    "                \n",
    "#                 plt_samples([image,label,leaf_mask], 1,3,figsize=(20,30),cmap='gray')\n",
    "                r = Resize(1024,1024)\n",
    "                imgs = {'i':image, 'l':label}\n",
    "                imgs_r = r(imgs)\n",
    "                r = Resize(m,n)\n",
    "                imgs_r = r(imgs_r)\n",
    "#                 print(imgs_r['i'].astype(np.uint8))\n",
    "\n",
    "                plt_samples([imgs_r['l'],label_cp], 1,2,figsize=(20,30),cmap='gray')\n",
    "                plt.show()\n",
    "                break\n",
    "#                 i+=1\n",
    "            break"
   ]
  },
  {
   "cell_type": "code",
   "execution_count": 62,
   "metadata": {},
   "outputs": [
    {
     "name": "stdout",
     "output_type": "stream",
     "text": [
      "Warning: BinaryLeaf: training phase:\n",
      "  loaded 219 out of (219) images from /usr/xtmp/xs75/leaves/datasets/leaves;\n",
      "  label_names: ['__background__', 'hole'];\n",
      "\n"
     ]
    },
    {
     "ename": "TypeError",
     "evalue": "unhashable type: 'list'",
     "output_type": "error",
     "traceback": [
      "\u001b[0;31m---------------------------------------------------------------------------\u001b[0m",
      "\u001b[0;31mTypeError\u001b[0m                                 Traceback (most recent call last)",
      "\u001b[0;32m<ipython-input-62-7dd2eb6be01c>\u001b[0m in \u001b[0;36m<module>\u001b[0;34m\u001b[0m\n\u001b[1;32m     11\u001b[0m \u001b[0mpath\u001b[0m \u001b[0;34m=\u001b[0m \u001b[0;34m'../../configs/visualize_img.yml'\u001b[0m\u001b[0;34m\u001b[0m\u001b[0;34m\u001b[0m\u001b[0m\n\u001b[1;32m     12\u001b[0m \u001b[0mcfg\u001b[0m \u001b[0;34m=\u001b[0m \u001b[0mread_from_yaml\u001b[0m\u001b[0;34m(\u001b[0m\u001b[0mpath\u001b[0m\u001b[0;34m)\u001b[0m\u001b[0;34m\u001b[0m\u001b[0;34m\u001b[0m\u001b[0m\n\u001b[0;32m---> 13\u001b[0;31m \u001b[0mtrain_set\u001b[0m\u001b[0;34m,\u001b[0m \u001b[0mvalid_set\u001b[0m \u001b[0;34m=\u001b[0m \u001b[0mget_dataset\u001b[0m\u001b[0;34m(\u001b[0m\u001b[0mcfg\u001b[0m\u001b[0;34m)\u001b[0m\u001b[0;34m\u001b[0m\u001b[0;34m\u001b[0m\u001b[0m\n\u001b[0m\u001b[1;32m     14\u001b[0m \u001b[0;34m\u001b[0m\u001b[0m\n\u001b[1;32m     15\u001b[0m \u001b[0;31m# t = cfg.training\u001b[0m\u001b[0;34m\u001b[0m\u001b[0;34m\u001b[0m\u001b[0;34m\u001b[0m\u001b[0m\n",
      "\u001b[0;32m~/Xian/leaf-damage-new/leaves/code/datasets/get_dataset.py\u001b[0m in \u001b[0;36mget_dataset\u001b[0;34m(cfg)\u001b[0m\n\u001b[1;32m     29\u001b[0m             \u001b[0mlist_train_datasets\u001b[0m \u001b[0;34m+=\u001b[0m \u001b[0;34m[\u001b[0m\u001b[0mtrain_data\u001b[0m\u001b[0;34m]\u001b[0m\u001b[0;34m\u001b[0m\u001b[0;34m\u001b[0m\u001b[0m\n\u001b[1;32m     30\u001b[0m \u001b[0;34m\u001b[0m\u001b[0m\n\u001b[0;32m---> 31\u001b[0;31m         \u001b[0;32mif\u001b[0m \u001b[0mevaluate_phase\u001b[0m \u001b[0;32min\u001b[0m \u001b[0mpartition\u001b[0m\u001b[0;34m.\u001b[0m\u001b[0mkeys\u001b[0m\u001b[0;34m(\u001b[0m\u001b[0;34m)\u001b[0m\u001b[0;34m:\u001b[0m\u001b[0;34m\u001b[0m\u001b[0;34m\u001b[0m\u001b[0m\n\u001b[0m\u001b[1;32m     32\u001b[0m             \u001b[0;32mif\u001b[0m \u001b[0mfirst_val\u001b[0m\u001b[0;34m:\u001b[0m\u001b[0;34m\u001b[0m\u001b[0;34m\u001b[0m\u001b[0m\n\u001b[1;32m     33\u001b[0m                 \u001b[0mtrans_valid\u001b[0m \u001b[0;34m=\u001b[0m \u001b[0mtransforms\u001b[0m\u001b[0;34m.\u001b[0m\u001b[0mCompose\u001b[0m\u001b[0;34m(\u001b[0m\u001b[0mget_transforms\u001b[0m\u001b[0;34m(\u001b[0m\u001b[0mcfg_trans\u001b[0m\u001b[0;34m,\u001b[0m \u001b[0;32mFalse\u001b[0m\u001b[0;34m)\u001b[0m\u001b[0;34m)\u001b[0m\u001b[0;34m\u001b[0m\u001b[0;34m\u001b[0m\u001b[0m\n",
      "\u001b[0;31mTypeError\u001b[0m: unhashable type: 'list'"
     ]
    }
   ],
   "source": [
    "from datasets.get_dataset import *\n",
    "from datasets.leaf_dataset import *\n",
    "from torch.utils.data import DataLoader\n",
    "import sys\n",
    "\n",
    "sys.path.append('../')\n",
    "from datasets.get_dataset import get_dataset\n",
    "from losses.get_loss import get_loss\n",
    "from models.get_model import get_model\n",
    "\n",
    "path = '../../configs/visualize_img.yml'\n",
    "cfg = read_from_yaml(path)\n",
    "train_set, valid_set = get_dataset(cfg)\n",
    "\n",
    "# t = cfg.training\n",
    "# val_loader = DataLoader(valid_set, batch_size=1, shuffle=False, num_workers=t.hardware.workers,\n",
    "#                         pin_memory=True, drop_last=False) # t.size.batch_size\n",
    "\n",
    "# train_loader = DataLoader(train_set, batch_size=1, shuffle=True,\n",
    "#                           num_workers=t.hardware.workers,\n",
    "#                           pin_memory=True) #t.size.batch_size\n",
    "\n",
    "# for i_step, batch in enumerate(train_loader):\n",
    "#     print(batch['image'].shape)\n",
    "#     print(batch['label'].shape)\n",
    "#     print(batch['leaf_mask'].shape)"
   ]
  },
  {
   "cell_type": "code",
   "execution_count": 6,
   "metadata": {},
   "outputs": [
    {
     "name": "stdout",
     "output_type": "stream",
     "text": [
      "(1024, 1024, 3)\n",
      "(1024, 1024, 1)\n",
      "(1024, 1024, 1)\n"
     ]
    }
   ],
   "source": [
    "for i in range(1):\n",
    "    batch = train_set._load_sample(i)\n",
    "    batch = r(batch)\n",
    "    print(batch['image'].shape)\n",
    "    print(batch['label'].shape)\n",
    "    print(batch['leaf_mask'].shape)"
   ]
  },
  {
   "cell_type": "code",
   "execution_count": null,
   "metadata": {},
   "outputs": [],
   "source": []
  },
  {
   "cell_type": "code",
   "execution_count": 7,
   "metadata": {},
   "outputs": [
    {
     "data": {
      "text/plain": [
       "dict_keys(['idx', 'id', 'image', 'label', 'leaf_mask'])"
      ]
     },
     "execution_count": 7,
     "metadata": {},
     "output_type": "execute_result"
    }
   ],
   "source": [
    "batch.keys()"
   ]
  },
  {
   "cell_type": "code",
   "execution_count": 8,
   "metadata": {},
   "outputs": [
    {
     "data": {
      "text/plain": [
       "(1024, 1024, 1)"
      ]
     },
     "execution_count": 8,
     "metadata": {},
     "output_type": "execute_result"
    }
   ],
   "source": [
    "r(image.astype(np.uint8)).shape"
   ]
  },
  {
   "cell_type": "code",
   "execution_count": 9,
   "metadata": {},
   "outputs": [
    {
     "data": {
      "text/plain": [
       "dtype('float64')"
      ]
     },
     "execution_count": 9,
     "metadata": {},
     "output_type": "execute_result"
    }
   ],
   "source": [
    "image.dtype"
   ]
  },
  {
   "cell_type": "code",
   "execution_count": null,
   "metadata": {},
   "outputs": [],
   "source": []
  }
 ],
 "metadata": {
  "kernelspec": {
   "display_name": "leaf",
   "language": "python",
   "name": "leaf"
  },
  "language_info": {
   "codemirror_mode": {
    "name": "ipython",
    "version": 3
   },
   "file_extension": ".py",
   "mimetype": "text/x-python",
   "name": "python",
   "nbconvert_exporter": "python",
   "pygments_lexer": "ipython3",
   "version": "3.8.8"
  }
 },
 "nbformat": 4,
 "nbformat_minor": 4
}
