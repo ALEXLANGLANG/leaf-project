{
 "cells": [
  {
   "cell_type": "code",
   "execution_count": 7,
   "metadata": {},
   "outputs": [],
   "source": [
    "# dir_, name = os.path.split(path_log)\n",
    "# path = dir_ + f'log_{name}_.xlsx'\n",
    "import sys\n",
    "sys.path.append('../')\n",
    "from tool.tboard import read_tensorboard_event_file\n",
    "import pandas as pd"
   ]
  },
  {
   "cell_type": "code",
   "execution_count": 9,
   "metadata": {},
   "outputs": [
    {
     "name": "stdout",
     "output_type": "stream",
     "text": [
      "reading /usr/xtmp/xs75/leaves/exps/ql_sk_20211206_194711/events.out.tfevents.1638838033.linux45.36712.0 done.\n"
     ]
    }
   ],
   "source": [
    "path_log = '/usr/xtmp/xs75/leaves/exps/ql_sk_20211206_194711/events.out.tfevents.1638838033.linux45.36712.0'\n",
    "path = '../excel_sk.xlsx'\n",
    "logs = read_tensorboard_event_file(path_log)\n",
    "df = pd.DataFrame()\n",
    "for log in logs:\n",
    "    tag = log['tag']\n",
    "    values = list(log['y'])\n",
    "    df[tag] = values\n",
    "\n",
    "df.to_excel(path, sheet_name='stats')"
   ]
  }
 ],
 "metadata": {
  "kernelspec": {
   "display_name": "Python 3",
   "language": "python",
   "name": "python3"
  },
  "language_info": {
   "codemirror_mode": {
    "name": "ipython",
    "version": 3
   },
   "file_extension": ".py",
   "mimetype": "text/x-python",
   "name": "python",
   "nbconvert_exporter": "python",
   "pygments_lexer": "ipython3",
   "version": "3.6.9"
  }
 },
 "nbformat": 4,
 "nbformat_minor": 4
}
