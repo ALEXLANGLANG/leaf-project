{
 "cells": [
  {
   "cell_type": "code",
   "execution_count": 1,
   "metadata": {},
   "outputs": [],
   "source": [
    "import numpy as np\n",
    "from path import Path\n",
    "import matplotlib.pyplot as plt\n",
    "from glob import glob\n",
    "from tqdm import tqdm\n",
    "import os\n",
    "import sys\n",
    "import cv2\n",
    "sys.path.append('../')\n",
    "import random\n",
    "from tool.data_io import get_data_paths,read_image, read_json, save_image, try_create_dir,save_json\n",
    "from tool.yaml_io import write_to_yaml,read_from_yaml\n",
    "from tool.plt_utils import plt_samples"
   ]
  },
  {
   "cell_type": "code",
   "execution_count": 2,
   "metadata": {},
   "outputs": [],
   "source": [
    "def set_labels(label_file):\n",
    "    labels = read_json(label_file)\n",
    "    label_ids = set()\n",
    "    label_names = set()\n",
    "    for species in labels.keys():\n",
    "        for (idx, item) in labels[species].items():\n",
    "            label_ids.add(item['number'])\n",
    "            label_names.add(item['label'])\n",
    "    return labels"
   ]
  },
  {
   "cell_type": "code",
   "execution_count": 30,
   "metadata": {},
   "outputs": [
    {
     "name": "stderr",
     "output_type": "stream",
     "text": [
      "100%|██████████| 5119/5119 [00:01<00:00, 2905.19it/s]\n"
     ]
    }
   ],
   "source": [
    "species_type = 'quercus-bicolor-herbivory'\n",
    "d_type = 'hole'\n",
    "root = Path('/usr/xtmp/xs75/leaves/datasets/damage_info/damages/')\n",
    "d_sizes = []\n",
    "d_deleted = []\n",
    "d_keep = []\n",
    "bound = 500\n",
    "for path in tqdm(glob(root/f'{d_type}/{species_type}/*/*.jpeg')):\n",
    "    d, _ = read_image(path)\n",
    "    d_pixels = d.shape[0]*d.shape[1]\n",
    "    d_sizes += [d_pixels]\n",
    "d_sizes = np.array(d_sizes)\n",
    "d_keep = d_sizes[d_sizes >= bound]\n",
    "d_deleted = d_sizes[d_sizes < bound]"
   ]
  },
  {
   "cell_type": "code",
   "execution_count": 31,
   "metadata": {},
   "outputs": [
    {
     "data": {
      "text/plain": [
       "12630840"
      ]
     },
     "execution_count": 31,
     "metadata": {},
     "output_type": "execute_result"
    }
   ],
   "source": [
    "sum(d_keep)"
   ]
  },
  {
   "cell_type": "code",
   "execution_count": 32,
   "metadata": {},
   "outputs": [
    {
     "data": {
      "text/plain": [
       "533314"
      ]
     },
     "execution_count": 32,
     "metadata": {},
     "output_type": "execute_result"
    }
   ],
   "source": [
    "sum(d_deleted)"
   ]
  },
  {
   "cell_type": "code",
   "execution_count": 35,
   "metadata": {},
   "outputs": [
    {
     "data": {
      "text/plain": [
       "(array([97., 54., 20., 26., 14., 13.,  1.,  7.,  2.,  5.,  4.,  2.,  2.,\n",
       "         0.,  2.,  1.,  2.,  1.,  0.,  2.,  0.,  2.,  0.,  1.,  0.,  1.,\n",
       "         0.,  0.,  0.,  1.,  1.,  0.,  0.,  0.,  0.,  0.,  0.,  0.,  0.,\n",
       "         0.,  0.,  0.,  0.,  0.,  0.,  0.,  0.,  0.,  0.,  1.]),\n",
       " array([ 10043.  ,  15150.34,  20257.68,  25365.02,  30472.36,  35579.7 ,\n",
       "         40687.04,  45794.38,  50901.72,  56009.06,  61116.4 ,  66223.74,\n",
       "         71331.08,  76438.42,  81545.76,  86653.1 ,  91760.44,  96867.78,\n",
       "        101975.12, 107082.46, 112189.8 , 117297.14, 122404.48, 127511.82,\n",
       "        132619.16, 137726.5 , 142833.84, 147941.18, 153048.52, 158155.86,\n",
       "        163263.2 , 168370.54, 173477.88, 178585.22, 183692.56, 188799.9 ,\n",
       "        193907.24, 199014.58, 204121.92, 209229.26, 214336.6 , 219443.94,\n",
       "        224551.28, 229658.62, 234765.96, 239873.3 , 244980.64, 250087.98,\n",
       "        255195.32, 260302.66, 265410.  ]),\n",
       " <BarContainer object of 50 artists>)"
      ]
     },
     "execution_count": 35,
     "metadata": {},
     "output_type": "execute_result"
    },
    {
     "data": {
      "image/png": "[encoded data removed]",
      "text/plain": [
       "<Figure size 1080x360 with 3 Axes>"
      ]
     },
     "metadata": {
      "needs_background": "light"
     },
     "output_type": "display_data"
    }
   ],
   "source": [
    "n_r = 1\n",
    "n_c = 3\n",
    "plt.figure(figsize = (15,5))\n",
    "plt.subplot(n_r, n_c, 1)\n",
    "plt.hist(d_sizes, 50, density = False, histtype ='bar')\n",
    "plt.subplot(n_r, n_c, 2)\n",
    "plt.hist(d_sizes[d_sizes < 5000], 50, density = False, histtype ='bar')\n",
    "plt.subplot(n_r, n_c, 3)\n",
    "plt.hist(d_sizes[d_sizes >= 10000], 50, density = False, histtype ='bar')"
   ]
  },
  {
   "cell_type": "code",
   "execution_count": null,
   "metadata": {},
   "outputs": [],
   "source": []
  }
 ],
 "metadata": {
  "kernelspec": {
   "display_name": "leaf",
   "language": "python",
   "name": "leaf"
  },
  "language_info": {
   "codemirror_mode": {
    "name": "ipython",
    "version": 3
   },
   "file_extension": ".py",
   "mimetype": "text/x-python",
   "name": "python",
   "nbconvert_exporter": "python",
   "pygments_lexer": "ipython3",
   "version": "3.8.8"
  }
 },
 "nbformat": 4,
 "nbformat_minor": 4
}
