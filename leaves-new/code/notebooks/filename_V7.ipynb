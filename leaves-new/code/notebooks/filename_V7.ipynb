{
 "cells": [
  {
   "cell_type": "code",
   "execution_count": 4,
   "metadata": {},
   "outputs": [
    {
     "ename": "NameError",
     "evalue": "name 'type_check' is not defined",
     "output_type": "error",
     "traceback": [
      "\u001b[0;31m---------------------------------------------------------------------------\u001b[0m",
      "\u001b[0;31mNameError\u001b[0m                                 Traceback (most recent call last)",
      "\u001b[0;32m<ipython-input-4-8d2184eb382d>\u001b[0m in \u001b[0;36m<module>\u001b[0;34m\u001b[0m\n\u001b[0;32m----> 1\u001b[0;31m \u001b[0;32mimport\u001b[0m \u001b[0mnumpy\u001b[0m \u001b[0;32mas\u001b[0m \u001b[0mnp\u001b[0m\u001b[0;34m\u001b[0m\u001b[0;34m\u001b[0m\u001b[0m\n\u001b[0m\u001b[1;32m      2\u001b[0m \u001b[0;32mfrom\u001b[0m \u001b[0mpath\u001b[0m \u001b[0;32mimport\u001b[0m \u001b[0mPath\u001b[0m\u001b[0;34m\u001b[0m\u001b[0;34m\u001b[0m\u001b[0m\n\u001b[1;32m      3\u001b[0m \u001b[0;32mimport\u001b[0m \u001b[0mmatplotlib\u001b[0m\u001b[0;34m.\u001b[0m\u001b[0mpyplot\u001b[0m \u001b[0;32mas\u001b[0m \u001b[0mplt\u001b[0m\u001b[0;34m\u001b[0m\u001b[0;34m\u001b[0m\u001b[0m\n\u001b[1;32m      4\u001b[0m \u001b[0;32mfrom\u001b[0m \u001b[0mglob\u001b[0m \u001b[0;32mimport\u001b[0m \u001b[0mglob\u001b[0m\u001b[0;34m\u001b[0m\u001b[0;34m\u001b[0m\u001b[0m\n\u001b[1;32m      5\u001b[0m \u001b[0;32mfrom\u001b[0m \u001b[0mtqdm\u001b[0m \u001b[0;32mimport\u001b[0m \u001b[0mtqdm\u001b[0m\u001b[0;34m\u001b[0m\u001b[0;34m\u001b[0m\u001b[0m\n",
      "\u001b[0;32m/usr/xtmp/xs75/anaconda3/lib/python3.8/site-packages/numpy/__init__.py\u001b[0m in \u001b[0;36m<module>\u001b[0;34m\u001b[0m\n\u001b[1;32m    146\u001b[0m     \u001b[0;32mfrom\u001b[0m \u001b[0;34m.\u001b[0m\u001b[0mcore\u001b[0m \u001b[0;32mimport\u001b[0m \u001b[0;34m*\u001b[0m\u001b[0;34m\u001b[0m\u001b[0;34m\u001b[0m\u001b[0m\n\u001b[1;32m    147\u001b[0m     \u001b[0;32mfrom\u001b[0m \u001b[0;34m.\u001b[0m \u001b[0;32mimport\u001b[0m \u001b[0mcompat\u001b[0m\u001b[0;34m\u001b[0m\u001b[0;34m\u001b[0m\u001b[0m\n\u001b[0;32m--> 148\u001b[0;31m     \u001b[0;32mfrom\u001b[0m \u001b[0;34m.\u001b[0m \u001b[0;32mimport\u001b[0m \u001b[0mlib\u001b[0m\u001b[0;34m\u001b[0m\u001b[0;34m\u001b[0m\u001b[0m\n\u001b[0m\u001b[1;32m    149\u001b[0m     \u001b[0;31m# NOTE: to be revisited following future namespace cleanup.\u001b[0m\u001b[0;34m\u001b[0m\u001b[0;34m\u001b[0m\u001b[0;34m\u001b[0m\u001b[0m\n\u001b[1;32m    150\u001b[0m     \u001b[0;31m# See gh-14454 and gh-15672 for discussion.\u001b[0m\u001b[0;34m\u001b[0m\u001b[0;34m\u001b[0m\u001b[0;34m\u001b[0m\u001b[0m\n",
      "\u001b[0;32m/usr/xtmp/xs75/anaconda3/lib/python3.8/site-packages/numpy/lib/__init__.py\u001b[0m in \u001b[0;36m<module>\u001b[0;34m\u001b[0m\n\u001b[1;32m     42\u001b[0m \u001b[0;34m\u001b[0m\u001b[0m\n\u001b[1;32m     43\u001b[0m \u001b[0m__all__\u001b[0m \u001b[0;34m=\u001b[0m \u001b[0;34m[\u001b[0m\u001b[0;34m'emath'\u001b[0m\u001b[0;34m,\u001b[0m \u001b[0;34m'math'\u001b[0m\u001b[0;34m,\u001b[0m \u001b[0;34m'tracemalloc_domain'\u001b[0m\u001b[0;34m,\u001b[0m \u001b[0;34m'Arrayterator'\u001b[0m\u001b[0;34m]\u001b[0m\u001b[0;34m\u001b[0m\u001b[0;34m\u001b[0m\u001b[0m\n\u001b[0;32m---> 44\u001b[0;31m \u001b[0m__all__\u001b[0m \u001b[0;34m+=\u001b[0m \u001b[0mtype_check\u001b[0m\u001b[0;34m.\u001b[0m\u001b[0m__all__\u001b[0m\u001b[0;34m\u001b[0m\u001b[0;34m\u001b[0m\u001b[0m\n\u001b[0m\u001b[1;32m     45\u001b[0m \u001b[0m__all__\u001b[0m \u001b[0;34m+=\u001b[0m \u001b[0mindex_tricks\u001b[0m\u001b[0;34m.\u001b[0m\u001b[0m__all__\u001b[0m\u001b[0;34m\u001b[0m\u001b[0;34m\u001b[0m\u001b[0m\n\u001b[1;32m     46\u001b[0m \u001b[0m__all__\u001b[0m \u001b[0;34m+=\u001b[0m \u001b[0mfunction_base\u001b[0m\u001b[0;34m.\u001b[0m\u001b[0m__all__\u001b[0m\u001b[0;34m\u001b[0m\u001b[0;34m\u001b[0m\u001b[0m\n",
      "\u001b[0;31mNameError\u001b[0m: name 'type_check' is not defined"
     ]
    }
   ],
   "source": [
    "import numpy as np\n",
    "from path import Path\n",
    "import matplotlib.pyplot as plt\n",
    "from glob import glob\n",
    "from tqdm import tqdm\n",
    "import os\n",
    "import sys\n",
    "sys.path.append('../')\n",
    "import random\n",
    "from tool.data_io import get_data_paths,read_image, read_json, save_image, try_create_dir,save_json\n",
    "from tool.yaml_io import write_to_yaml,read_from_yaml\n",
    "from tool.plt_utils import plt_samples"
   ]
  },
  {
   "cell_type": "code",
   "execution_count": 8,
   "metadata": {},
   "outputs": [
    {
     "data": {
      "text/plain": [
       "(array([[0, 0, 0, ..., 0, 0, 0],\n",
       "        [0, 0, 0, ..., 0, 0, 0],\n",
       "        [0, 0, 0, ..., 0, 0, 0],\n",
       "        ...,\n",
       "        [0, 0, 0, ..., 0, 0, 0],\n",
       "        [0, 0, 0, ..., 0, 0, 0],\n",
       "        [0, 0, 0, ..., 0, 0, 0]], dtype=uint8),\n",
       " array([[  0,   0,   0],\n",
       "        [255,  50,  50],\n",
       "        [255, 255,  50],\n",
       "        [ 50, 255,  50],\n",
       "        [ 50, 255, 255],\n",
       "        [ 50,  50, 255],\n",
       "        [  6,   6,   6],\n",
       "        [  7,   7,   7],\n",
       "        [  8,   8,   8],\n",
       "        [  9,   9,   9],\n",
       "        [ 10,  10,  10],\n",
       "        [ 11,  11,  11],\n",
       "        [ 12,  12,  12],\n",
       "        [ 13,  13,  13],\n",
       "        [ 14,  14,  14],\n",
       "        [ 15,  15,  15],\n",
       "        [ 16,  16,  16],\n",
       "        [ 17,  17,  17],\n",
       "        [ 18,  18,  18],\n",
       "        [ 19,  19,  19],\n",
       "        [ 20,  20,  20],\n",
       "        [ 21,  21,  21],\n",
       "        [ 22,  22,  22],\n",
       "        [ 23,  23,  23],\n",
       "        [ 24,  24,  24],\n",
       "        [ 25,  25,  25],\n",
       "        [ 26,  26,  26],\n",
       "        [ 27,  27,  27],\n",
       "        [ 28,  28,  28],\n",
       "        [ 29,  29,  29],\n",
       "        [ 30,  30,  30],\n",
       "        [ 31,  31,  31],\n",
       "        [ 32,  32,  32],\n",
       "        [ 33,  33,  33],\n",
       "        [ 34,  34,  34],\n",
       "        [ 35,  35,  35],\n",
       "        [ 36,  36,  36],\n",
       "        [ 37,  37,  37],\n",
       "        [ 38,  38,  38],\n",
       "        [ 39,  39,  39],\n",
       "        [ 40,  40,  40],\n",
       "        [ 41,  41,  41],\n",
       "        [ 42,  42,  42],\n",
       "        [ 43,  43,  43],\n",
       "        [ 44,  44,  44],\n",
       "        [ 45,  45,  45],\n",
       "        [ 46,  46,  46],\n",
       "        [ 47,  47,  47],\n",
       "        [ 48,  48,  48],\n",
       "        [ 49,  49,  49],\n",
       "        [ 50,  50,  50],\n",
       "        [ 51,  51,  51],\n",
       "        [ 52,  52,  52],\n",
       "        [ 53,  53,  53],\n",
       "        [ 54,  54,  54],\n",
       "        [ 55,  55,  55],\n",
       "        [ 56,  56,  56],\n",
       "        [ 57,  57,  57],\n",
       "        [ 58,  58,  58],\n",
       "        [ 59,  59,  59],\n",
       "        [ 60,  60,  60],\n",
       "        [ 61,  61,  61],\n",
       "        [ 62,  62,  62],\n",
       "        [ 63,  63,  63],\n",
       "        [ 64,  64,  64],\n",
       "        [ 65,  65,  65],\n",
       "        [ 66,  66,  66],\n",
       "        [ 67,  67,  67],\n",
       "        [ 68,  68,  68],\n",
       "        [ 69,  69,  69],\n",
       "        [ 70,  70,  70],\n",
       "        [ 71,  71,  71],\n",
       "        [ 72,  72,  72],\n",
       "        [ 73,  73,  73],\n",
       "        [ 74,  74,  74],\n",
       "        [ 75,  75,  75],\n",
       "        [ 76,  76,  76],\n",
       "        [ 77,  77,  77],\n",
       "        [ 78,  78,  78],\n",
       "        [ 79,  79,  79],\n",
       "        [ 80,  80,  80],\n",
       "        [ 81,  81,  81],\n",
       "        [ 82,  82,  82],\n",
       "        [ 83,  83,  83],\n",
       "        [ 84,  84,  84],\n",
       "        [ 85,  85,  85],\n",
       "        [ 86,  86,  86],\n",
       "        [ 87,  87,  87],\n",
       "        [ 88,  88,  88],\n",
       "        [ 89,  89,  89],\n",
       "        [ 90,  90,  90],\n",
       "        [ 91,  91,  91],\n",
       "        [ 92,  92,  92],\n",
       "        [ 93,  93,  93],\n",
       "        [ 94,  94,  94],\n",
       "        [ 95,  95,  95],\n",
       "        [ 96,  96,  96],\n",
       "        [ 97,  97,  97],\n",
       "        [ 98,  98,  98],\n",
       "        [ 99,  99,  99],\n",
       "        [100, 100, 100],\n",
       "        [101, 101, 101],\n",
       "        [102, 102, 102],\n",
       "        [103, 103, 103],\n",
       "        [104, 104, 104],\n",
       "        [105, 105, 105],\n",
       "        [106, 106, 106],\n",
       "        [107, 107, 107],\n",
       "        [108, 108, 108],\n",
       "        [109, 109, 109],\n",
       "        [110, 110, 110],\n",
       "        [111, 111, 111],\n",
       "        [112, 112, 112],\n",
       "        [113, 113, 113],\n",
       "        [114, 114, 114],\n",
       "        [115, 115, 115],\n",
       "        [116, 116, 116],\n",
       "        [117, 117, 117],\n",
       "        [118, 118, 118],\n",
       "        [119, 119, 119],\n",
       "        [120, 120, 120],\n",
       "        [121, 121, 121],\n",
       "        [122, 122, 122],\n",
       "        [123, 123, 123],\n",
       "        [124, 124, 124],\n",
       "        [125, 125, 125],\n",
       "        [126, 126, 126],\n",
       "        [127, 127, 127],\n",
       "        [128, 128, 128],\n",
       "        [129, 129, 129],\n",
       "        [130, 130, 130],\n",
       "        [131, 131, 131],\n",
       "        [132, 132, 132],\n",
       "        [133, 133, 133],\n",
       "        [134, 134, 134],\n",
       "        [135, 135, 135],\n",
       "        [136, 136, 136],\n",
       "        [137, 137, 137],\n",
       "        [138, 138, 138],\n",
       "        [139, 139, 139],\n",
       "        [140, 140, 140],\n",
       "        [141, 141, 141],\n",
       "        [142, 142, 142],\n",
       "        [143, 143, 143],\n",
       "        [144, 144, 144],\n",
       "        [145, 145, 145],\n",
       "        [146, 146, 146],\n",
       "        [147, 147, 147],\n",
       "        [148, 148, 148],\n",
       "        [149, 149, 149],\n",
       "        [150, 150, 150],\n",
       "        [151, 151, 151],\n",
       "        [152, 152, 152],\n",
       "        [153, 153, 153],\n",
       "        [154, 154, 154],\n",
       "        [155, 155, 155],\n",
       "        [156, 156, 156],\n",
       "        [157, 157, 157],\n",
       "        [158, 158, 158],\n",
       "        [159, 159, 159],\n",
       "        [160, 160, 160],\n",
       "        [161, 161, 161],\n",
       "        [162, 162, 162],\n",
       "        [163, 163, 163],\n",
       "        [164, 164, 164],\n",
       "        [165, 165, 165],\n",
       "        [166, 166, 166],\n",
       "        [167, 167, 167],\n",
       "        [168, 168, 168],\n",
       "        [169, 169, 169],\n",
       "        [170, 170, 170],\n",
       "        [171, 171, 171],\n",
       "        [172, 172, 172],\n",
       "        [173, 173, 173],\n",
       "        [174, 174, 174],\n",
       "        [175, 175, 175],\n",
       "        [176, 176, 176],\n",
       "        [177, 177, 177],\n",
       "        [178, 178, 178],\n",
       "        [179, 179, 179],\n",
       "        [180, 180, 180],\n",
       "        [181, 181, 181],\n",
       "        [182, 182, 182],\n",
       "        [183, 183, 183],\n",
       "        [184, 184, 184],\n",
       "        [185, 185, 185],\n",
       "        [186, 186, 186],\n",
       "        [187, 187, 187],\n",
       "        [188, 188, 188],\n",
       "        [189, 189, 189],\n",
       "        [190, 190, 190],\n",
       "        [191, 191, 191],\n",
       "        [192, 192, 192],\n",
       "        [193, 193, 193],\n",
       "        [194, 194, 194],\n",
       "        [195, 195, 195],\n",
       "        [196, 196, 196],\n",
       "        [197, 197, 197],\n",
       "        [198, 198, 198],\n",
       "        [199, 199, 199],\n",
       "        [200, 200, 200],\n",
       "        [201, 201, 201],\n",
       "        [202, 202, 202],\n",
       "        [203, 203, 203],\n",
       "        [204, 204, 204],\n",
       "        [205, 205, 205],\n",
       "        [206, 206, 206],\n",
       "        [207, 207, 207],\n",
       "        [208, 208, 208],\n",
       "        [209, 209, 209],\n",
       "        [210, 210, 210],\n",
       "        [211, 211, 211],\n",
       "        [212, 212, 212],\n",
       "        [213, 213, 213],\n",
       "        [214, 214, 214],\n",
       "        [215, 215, 215],\n",
       "        [216, 216, 216],\n",
       "        [217, 217, 217],\n",
       "        [218, 218, 218],\n",
       "        [219, 219, 219],\n",
       "        [220, 220, 220],\n",
       "        [221, 221, 221],\n",
       "        [222, 222, 222],\n",
       "        [223, 223, 223],\n",
       "        [224, 224, 224],\n",
       "        [225, 225, 225],\n",
       "        [226, 226, 226],\n",
       "        [227, 227, 227],\n",
       "        [228, 228, 228],\n",
       "        [229, 229, 229],\n",
       "        [230, 230, 230],\n",
       "        [231, 231, 231],\n",
       "        [232, 232, 232],\n",
       "        [233, 233, 233],\n",
       "        [234, 234, 234],\n",
       "        [235, 235, 235],\n",
       "        [236, 236, 236],\n",
       "        [237, 237, 237],\n",
       "        [238, 238, 238],\n",
       "        [239, 239, 239],\n",
       "        [240, 240, 240],\n",
       "        [241, 241, 241],\n",
       "        [242, 242, 242],\n",
       "        [243, 243, 243],\n",
       "        [244, 244, 244],\n",
       "        [245, 245, 245],\n",
       "        [246, 246, 246],\n",
       "        [247, 247, 247],\n",
       "        [248, 248, 248],\n",
       "        [249, 249, 249],\n",
       "        [250, 250, 250],\n",
       "        [251, 251, 251],\n",
       "        [252, 252, 252],\n",
       "        [253, 253, 253],\n",
       "        [254, 254, 254],\n",
       "        [255, 255, 255]], dtype=uint8))"
      ]
     },
     "execution_count": 8,
     "metadata": {},
     "output_type": "execute_result"
    }
   ],
   "source": [
    "p1 = '/usr/xtmp/xs75/leaves/datasets/leaves_updated/leaves/quercus-bicolor-herbivory/releases/2.0/other_formats/semantic-mask/masks_clean/'\n",
    "p1 = '/usr/xtmp/xs75/leaves/datasets/leaves_updated/leaves/quercus-bicolor-herbivory/releases/2.0/other_formats/semantic-mask/masks/'\n",
    "f1 = '00000388_4224563.png'\n",
    "f1 = '00000388_4224563.png'\n",
    "f1 = '00000388_4224563.png'\n",
    "p = p1 + f1\n",
    "read_image(p)"
   ]
  },
  {
   "cell_type": "code",
   "execution_count": 2,
   "metadata": {},
   "outputs": [],
   "source": [
    "def set_labels(label_file):\n",
    "    labels = read_json(label_file)\n",
    "    label_ids = set()\n",
    "    label_names = set()\n",
    "    for species in labels.keys():\n",
    "        for (idx, item) in labels[species].items():\n",
    "            label_ids.add(item['number'])\n",
    "            label_names.add(item['label'])\n",
    "    return labels\n",
    "\n",
    "def transform_label(label, labels_map):\n",
    "    for key, value in labels_map[species].items():\n",
    "        label[label == int(key)] = value['number']\n",
    "    return label"
   ]
  },
  {
   "cell_type": "code",
   "execution_count": 3,
   "metadata": {},
   "outputs": [],
   "source": [
    "d_type='skel'\n",
    "labels_map = set_labels(f'../../stats/label_{d_type}.json' )# ../../stats/label_file_common_binary.json' ../../stats/label_skel.json"
   ]
  },
  {
   "cell_type": "code",
   "execution_count": 4,
   "metadata": {},
   "outputs": [],
   "source": [
    "species = 'quercus-bicolor-herbivory'\n",
    "path_mask = 'releases/2.0/other_formats/semantic-mask/masks'\n",
    "root = Path(f\"/usr/xtmp/xs75/leaves/datasets/leaves_updated/leaves/{species}\")\n",
    "\n",
    "dir_annotate = root/'releases/2.0/annotations'\n",
    "dir_images = root/'images'\n",
    "dir_label = root/path_mask"
   ]
  },
  {
   "cell_type": "code",
   "execution_count": null,
   "metadata": {},
   "outputs": [],
   "source": []
  },
  {
   "cell_type": "code",
   "execution_count": 5,
   "metadata": {},
   "outputs": [],
   "source": [
    "root_new = Path(f'/usr/xtmp/xs75/leaves/original_data/leaves/{species}')\n",
    "dir_label_new = root_new/'releases/1.0/other_formats/semantic-mask/masks'\n",
    "dir_images_new = root_new/'images'"
   ]
  },
  {
   "cell_type": "code",
   "execution_count": 6,
   "metadata": {},
   "outputs": [],
   "source": [
    "partition = read_json(f'../../stats/partition_qb_{d_type}.json')  #'../../stats/partition_os_hole.json'"
   ]
  },
  {
   "cell_type": "code",
   "execution_count": 7,
   "metadata": {},
   "outputs": [],
   "source": [
    "validation_ids = partition['validation']['images'].keys()\n",
    "validation_ids = [it.split('/')[1] for it in validation_ids]\n"
   ]
  },
  {
   "cell_type": "code",
   "execution_count": 17,
   "metadata": {},
   "outputs": [],
   "source": [
    "map_photoid2rand = read_json(\"./qb_map_filenames.json\")"
   ]
  },
  {
   "cell_type": "code",
   "execution_count": 18,
   "metadata": {},
   "outputs": [
    {
     "name": "stdout",
     "output_type": "stream",
     "text": [
      "yes\n"
     ]
    }
   ],
   "source": [
    "if '860935' in map_photoid2rand.keys():\n",
    "    print(\"yes\")"
   ]
  },
  {
   "cell_type": "code",
   "execution_count": 19,
   "metadata": {},
   "outputs": [
    {
     "data": {
      "text/plain": [
       "'00000589'"
      ]
     },
     "execution_count": 19,
     "metadata": {},
     "output_type": "execute_result"
    }
   ],
   "source": [
    "map_photoid2rand['860935']"
   ]
  },
  {
   "cell_type": "code",
   "execution_count": 9,
   "metadata": {},
   "outputs": [],
   "source": [
    "import os\n"
   ]
  },
  {
   "cell_type": "code",
   "execution_count": 20,
   "metadata": {},
   "outputs": [
    {
     "name": "stderr",
     "output_type": "stream",
     "text": [
      " 77%|███████▋  | 274/354 [00:01<00:00, 217.14it/s]"
     ]
    },
    {
     "name": "stdout",
     "output_type": "stream",
     "text": [
      "found!!!!\n"
     ]
    },
    {
     "name": "stderr",
     "output_type": "stream",
     "text": [
      "100%|██████████| 354/354 [00:05<00:00, 61.02it/s] \n"
     ]
    }
   ],
   "source": [
    "for path in tqdm(glob(dir_annotate/'*.json')):\n",
    "#     print(path)\n",
    "    annotate_file = read_json(path)\n",
    "#     rand_file_name = annotate_file[\"image\"][\"filename\"]\n",
    "#     rand = rand_file_name.split('.')[0]\n",
    "    try:\n",
    "        orig = annotate_file[\"image\"][\"original_filename\"]\n",
    "        rand = map_photoid2rand[orig.split('.')[0]]\n",
    "\n",
    "    #     map_photoid2rand[orig.split('.')[0]] = rand\n",
    "        if '2.0' in dir_annotate:\n",
    "            rand_label_name = orig.split('.')[0] + '.png'\n",
    "            rand_file_name=orig\n",
    "        else:\n",
    "            rand_label_name = rand + '.png'\n",
    "            rand_file_name = rand +'.' + orig.split('.')[1]\n",
    "        new_file_name = rand + '_'+ orig\n",
    "        new_label_name = new_file_name.split('.')[0] + '.png'\n",
    "        base_name = new_file_name.split('.')[0]\n",
    "    #         if base_name not in validation_ids:\n",
    "    #             continue\n",
    "\n",
    "    #     label_new = read_image(dir_label_new/new_label_name)[0]\n",
    "    #     label_new = transform_label(label_new, labels_map)\n",
    "    #     img_new = read_image(dir_images_new/new_file_name)[0]\n",
    "        if base_name != \"00000589_860935\":\n",
    "            continue\n",
    "        print(\"found!!!!\")\n",
    "        label, label_platte = read_image(dir_label/rand_label_name)\n",
    "        img, img_platte = read_image(dir_images/rand_file_name)\n",
    "\n",
    "    #         print(new_label_name,new_file_name)\n",
    "        save_image(dir_label/new_label_name, label, label_platte)\n",
    "        save_image(dir_images/new_file_name, img, img_platte)\n",
    "    #     print(f\"save to {dir_images/new_file_name} and {dir_label/new_label_name}\")\n",
    "        label = transform_label(label, labels_map)\n",
    "        os.remove(dir_label/rand_label_name)\n",
    "        os.remove(dir_images/rand_file_name)\n",
    "        \n",
    "#         if np.count_nonzero(label_new != label) != 0:\n",
    "#             print(\"found new label\", orig)\n",
    "#         else:\n",
    "#             print(\"old label\", orig)\n",
    "    except:\n",
    "        1\n",
    "#         print(\"Exception: \", new_label_name)\n",
    "#     print(orig)\n",
    "#     plt_samples([label,label_new,img,img_new,], 1,2,figsize=(20,10),cmap='gray')\n",
    "#     break\n",
    "    \n",
    "    "
   ]
  },
  {
   "cell_type": "code",
   "execution_count": null,
   "metadata": {},
   "outputs": [],
   "source": [
    "map_photoid2rand.keys()"
   ]
  },
  {
   "cell_type": "code",
   "execution_count": null,
   "metadata": {},
   "outputs": [],
   "source": [
    "map_photoid2rand.keys()"
   ]
  },
  {
   "cell_type": "code",
   "execution_count": null,
   "metadata": {},
   "outputs": [],
   "source": [
    "map_photoid2rand.keys()"
   ]
  },
  {
   "cell_type": "code",
   "execution_count": null,
   "metadata": {},
   "outputs": [],
   "source": [
    "map_photoid2rand.keys()"
   ]
  },
  {
   "cell_type": "code",
   "execution_count": null,
   "metadata": {},
   "outputs": [],
   "source": [
    "map_photoid2rand.keys()"
   ]
  },
  {
   "cell_type": "code",
   "execution_count": null,
   "metadata": {},
   "outputs": [],
   "source": [
    "# map_allfilenames = map_photoid2rand.copy()\n",
    "# for key in map_photoid2rand.keys():\n",
    "#     map_allfilenames[map_photoid2rand[key]] = key"
   ]
  },
  {
   "cell_type": "code",
   "execution_count": null,
   "metadata": {},
   "outputs": [],
   "source": [
    "# save_json(\"qb_map_filenames.json\",map_allfilenames)"
   ]
  },
  {
   "cell_type": "code",
   "execution_count": null,
   "metadata": {},
   "outputs": [],
   "source": []
  }
 ],
 "metadata": {
  "kernelspec": {
   "display_name": "leaf",
   "language": "python",
   "name": "leaf"
  },
  "language_info": {
   "codemirror_mode": {
    "name": "ipython",
    "version": 3
   },
   "file_extension": ".py",
   "mimetype": "text/x-python",
   "name": "python",
   "nbconvert_exporter": "python",
   "pygments_lexer": "ipython3",
   "version": "3.8.8"
  }
 },
 "nbformat": 4,
 "nbformat_minor": 4
}
