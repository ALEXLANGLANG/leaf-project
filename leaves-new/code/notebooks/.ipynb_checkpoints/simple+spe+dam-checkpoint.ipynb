{
 "cells": [
  {
   "cell_type": "markdown",
   "metadata": {},
   "source": [
    "# Show distribtion of fixed partition for each species\n"
   ]
  },
  {
   "cell_type": "code",
   "execution_count": 1,
   "metadata": {},
   "outputs": [],
   "source": [
    "import numpy as np\n",
    "from path import Path\n",
    "import matplotlib.pyplot as plt\n",
    "from glob import glob\n",
    "from tqdm import tqdm\n",
    "import os\n",
    "import sys\n",
    "sys.path.append('../')\n",
    "import random\n",
    "from tool.data_io import get_data_paths,read_image, read_json\n",
    "\n"
   ]
  },
  {
   "cell_type": "code",
   "execution_count": 3,
   "metadata": {},
   "outputs": [
    {
     "name": "stdout",
     "output_type": "stream",
     "text": [
      "Warning: get_data_paths: read 845 images with ['image', 'label', 'leaf_mask'] from /usr/xtmp/xs75/leaves/datasets/leaves\n"
     ]
    }
   ],
   "source": [
    "root, id2paths = get_data_paths('../../configs/original_leaf.yml')\n",
    "partition = read_json('../../stats/partition_clean_tileW512H512M4.json')\n"
   ]
  },
  {
   "cell_type": "code",
   "execution_count": 16,
   "metadata": {},
   "outputs": [],
   "source": [
    "phase2spec={}\n",
    "for phase, its in partition.items():\n",
    "    if phase not in phase2spec.keys():\n",
    "        phase2spec[phase]={}\n",
    "    for it in its['images'].keys():\n",
    "        sp,_=it.split('/')\n",
    "        if sp not in phase2spec[phase].keys():\n",
    "            phase2spec[phase][sp] = 0\n",
    "        phase2spec[phase][sp]+=1\n",
    "dis_sp=[]    \n",
    "for phase, info in phase2spec.items():\n",
    "    dis_sp.append(list(info.values()))\n",
    "dis_sp = \n",
    "dis_sp = pd.DataFrame.from_dict(dis_sp)\n",
    "colors = ['b','maroon','g']\n",
    "# creating the bar plot\n",
    "ori_cols = df.columns\n",
    "\n",
    "df.columns = ['qb/ho', 'qb/mar', 'qb/sk', 'os/ho','os/mar','os/sk','ql/ho','ql/mar','ql/sk']\n",
    "for i in range(3):\n",
    "    plt.bar(df.columns[i*3:i*3+3], df.iloc[2,i*3:i*3+3],color=colors[i], width = 0.4)\n",
    "    plt.ylabel('recall')\n",
    "    plt.xlabel('species/damage')\n",
    "df.index=['tp','fn','recall']\n",
    "df"
   ]
  },
  {
   "cell_type": "code",
   "execution_count": 17,
   "metadata": {},
   "outputs": [
    {
     "data": {
      "text/plain": [
       "{'training': {'quercus-lobata': 212,\n",
       "  'quercus-bicolor-herbivory': 219,\n",
       "  'onoclea-sensibilis-herbivory': 76},\n",
       " 'validation': {'quercus-bicolor-herbivory': 28,\n",
       "  'quercus-lobata': 38,\n",
       "  'onoclea-sensibilis-herbivory': 18},\n",
       " 'testing': {'quercus-bicolor-herbivory': 98,\n",
       "  'quercus-lobata': 111,\n",
       "  'onoclea-sensibilis-herbivory': 45}}"
      ]
     },
     "execution_count": 17,
     "metadata": {},
     "output_type": "execute_result"
    }
   ],
   "source": [
    "phase2spec"
   ]
  },
  {
   "cell_type": "code",
   "execution_count": 18,
   "metadata": {},
   "outputs": [
    {
     "data": {
      "text/plain": [
       "[[212, 219, 76], [28, 38, 18], [98, 111, 45]]"
      ]
     },
     "execution_count": 18,
     "metadata": {},
     "output_type": "execute_result"
    }
   ],
   "source": [
    "dis_sp"
   ]
  },
  {
   "cell_type": "code",
   "execution_count": null,
   "metadata": {},
   "outputs": [],
   "source": []
  }
 ],
 "metadata": {
  "kernelspec": {
   "display_name": "Python 3",
   "language": "python",
   "name": "python3"
  },
  "language_info": {
   "codemirror_mode": {
    "name": "ipython",
    "version": 3
   },
   "file_extension": ".py",
   "mimetype": "text/x-python",
   "name": "python",
   "nbconvert_exporter": "python",
   "pygments_lexer": "ipython3",
   "version": "3.6.9"
  }
 },
 "nbformat": 4,
 "nbformat_minor": 4
}
