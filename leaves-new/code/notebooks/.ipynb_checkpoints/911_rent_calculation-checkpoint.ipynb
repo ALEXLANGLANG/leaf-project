{
 "cells": [
  {
   "cell_type": "code",
   "execution_count": 176,
   "metadata": {},
   "outputs": [],
   "source": []
  },
  {
   "cell_type": "code",
   "execution_count": 209,
   "metadata": {},
   "outputs": [],
   "source": [
    "import numpy as np\n",
    "TypeImportance = [6,3,2]\n",
    "totalPrice = 4400\n",
    "basePrice = 700\n",
    "roomName = ['Master', 'room3', 'room2', 'room4']\n",
    "BedroomSize = [218.55, 176.9, 101.97, 91.1] # size of a bedroom = width * height\n",
    "BathroomSize = [134.4, 20.88, 20.88, 20.88] # master room has a private bathroom, and the other three share a common bathroom\n",
    "ClosetroomSize = [93, 10.0, 10.0, 10.0] # \n",
    "Scores = []\n",
    "for i in range(4):\n",
    "    ithRoomcost = BedroomSize[i]*TypeImportance[0] + BathroomSize[i] * TypeImportance[1] + ClosetroomSize[i] * TypeImportance[2]\n",
    "    Scores += [ithRoomcost]\n",
    "roomCost = [s/sum(Scores) *  (totalPrice - len(roomName)*basePrice) + basePrice for s in Scores]"
   ]
  },
  {
   "cell_type": "code",
   "execution_count": 210,
   "metadata": {},
   "outputs": [
    {
     "name": "stdout",
     "output_type": "stream",
     "text": [
      "House Address: 911 Oakes St, East Palo Alto, CA, 94303\n",
      "\n",
      "RoomTypeImportance: bedroom:(6), bathroom:(3), closet:(2)\n",
      "Room score = sum (TypeImportance * Roomtype_size)\n",
      "Scores for each room:\n",
      "\n",
      " Master: (1900) =  bedroom(218.55*6)+bathroom(134.4*3)+closet(93*2)\n",
      " room3: (1144) =  bedroom(176.9*6)+bathroom(20.88*3)+closet(10.0*2)\n",
      " room2: (694) =  bedroom(101.97*6)+bathroom(20.88*3)+closet(10.0*2)\n",
      " room4: (629) =  bedroom(91.1*6)+bathroom(20.88*3)+closet(10.0*2)\n",
      "\n",
      "total price: $4400, base price: $700\n",
      "Rent for each room:\n",
      " Master: $1396 = $700 + $1600 * 1900/4368\n",
      " room3: $1119 = $700 + $1600 * 1144/4368\n",
      " room2: $954 = $700 + $1600 * 694/4368\n",
      " room4: $930 = $700 + $1600 * 629/4368\n",
      "\n"
     ]
    }
   ],
   "source": [
    "msg = 'House Address: 911 Oakes St, East Palo Alto, CA, 94303\\n\\n'\n",
    "msg += f'RoomTypeImportance: bedroom:({TypeImportance[0]}), bathroom:({TypeImportance[1]}), closet:({TypeImportance[2]})\\n'\n",
    "msg += f'Room score = sum (TypeImportance * Roomtype_size)\\n'\n",
    "msg += 'Scores for each room:\\n'\n",
    "msg+= '\\n'\n",
    "for i in range(4):\n",
    "    msg += f' {roomName[i]}: ({int(Scores[i])}) =  bedroom({BedroomSize[i]}*{TypeImportance[0]})+bathroom({BathroomSize[i]}*{TypeImportance[1]})+closet({ClosetroomSize[i]}*{TypeImportance[2]})\\n'\n",
    "msg+= '\\n'\n",
    "msg += f'total price: ${totalPrice}, base price: ${basePrice}\\n'\n",
    "msg += 'Rent for each room:\\n'    \n",
    "for i in range(4):\n",
    "    msg += f' {roomName[i]}: ${int(roomCost[i])} = ${basePrice} + ${totalPrice - len(roomName)*basePrice} * {int(Scores[i])}/{int(sum(Scores))}\\n' \n",
    "print(msg)"
   ]
  },
  {
   "cell_type": "code",
   "execution_count": 212,
   "metadata": {},
   "outputs": [
    {
     "name": "stdout",
     "output_type": "stream",
     "text": [
      "Xian should pay 1429.1986398793717 \n"
     ]
    }
   ],
   "source": [
    "Xian_pay = roomCost[1] + roomCost[3]/3 \n",
    "print (f\"Xian should pay {Xian_pay} \")"
   ]
  },
  {
   "cell_type": "code",
   "execution_count": null,
   "metadata": {},
   "outputs": [],
   "source": []
  }
 ],
 "metadata": {
  "kernelspec": {
   "display_name": "Python 3",
   "language": "python",
   "name": "python3"
  },
  "language_info": {
   "codemirror_mode": {
    "name": "ipython",
    "version": 3
   },
   "file_extension": ".py",
   "mimetype": "text/x-python",
   "name": "python",
   "nbconvert_exporter": "python",
   "pygments_lexer": "ipython3",
   "version": "3.6.9"
  }
 },
 "nbformat": 4,
 "nbformat_minor": 4
}
