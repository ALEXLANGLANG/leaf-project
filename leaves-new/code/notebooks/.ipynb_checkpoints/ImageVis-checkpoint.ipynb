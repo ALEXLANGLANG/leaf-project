{
 "cells": [
  {
   "cell_type": "code",
<<<<<<< HEAD
   "execution_count": 1,
=======
   "execution_count": 55,
>>>>>>> new-name
   "metadata": {},
   "outputs": [],
   "source": [
    "import numpy as np\n",
    "from path import Path\n",
    "import matplotlib.pyplot as plt\n",
    "from glob import glob\n",
    "from tqdm import tqdm\n",
    "import os\n",
    "import sys\n",
    "sys.path.append('../')\n",
    "import random\n",
    "from tool.data_io import get_data_paths,read_image, read_json, save_image, try_create_dir,save_json\n",
    "from tool.yaml_io import write_to_yaml,read_from_yaml\n",
<<<<<<< HEAD
    "from tool.plt_utils import plt_samples"
=======
    "from tool.plt_utils import plt_samples\n",
    "import copy"
>>>>>>> new-name
   ]
  },
  {
   "cell_type": "code",
<<<<<<< HEAD
   "execution_count": 2,
=======
   "execution_count": 56,
>>>>>>> new-name
   "metadata": {},
   "outputs": [],
   "source": [
    "def set_labels(label_file):\n",
    "    labels = read_json(label_file)\n",
    "    label_ids = set()\n",
    "    label_names = set()\n",
    "    for species in labels.keys():\n",
    "        for (idx, item) in labels[species].items():\n",
    "            label_ids.add(item['number'])\n",
    "            label_names.add(item['label'])\n",
    "    return labels"
   ]
  },
  {
   "cell_type": "code",
<<<<<<< HEAD
   "execution_count": 25,
=======
   "execution_count": 30,
>>>>>>> new-name
   "metadata": {},
   "outputs": [],
   "source": [
    "# r = Path('../../stats/')\n",
    "# for file in ['partition_os_hole.json','partition_os_skel.json', 'partition_os_margin.json']:\n",
    "#     part = read_json(r/file)\n",
    "#     for phase in part.keys():\n",
    "#         for img_id in tqdm(part[phase]['images'].keys()):\n",
    "#             path = part[phase]['images'][img_id]['info']\n",
    "#             label, _ = read_image(root_leaves/part[phase]['images'][img_id]['label'])\n",
    "#             part[phase]['images'][img_id]['info']['height'] = label.shape[0]\n",
    "#             part[phase]['images'][img_id]['info']['width'] =label.shape[1]\n",
    "# #             p_s = path.split('/')\n",
    "# #             p_s[-2] = 'masks_clean'\n",
    "# #             part[phase]['images'][img_id]['label'] = os.path.join(*p_s)\n",
    "# #             old = 'images_clean'\n",
    "# #             new = 'images'\n",
    "# #             dictionary = part[phase]\n",
    "# #             dictionary[new] = dictionary[old]\n",
    "# #             del dictionary[old]\n",
    "#     save_json(r/file, part)"
   ]
  },
  {
   "cell_type": "code",
<<<<<<< HEAD
   "execution_count": 34,
   "metadata": {},
   "outputs": [],
   "source": [
    "qb_skel_samples_val = ['quercus-bicolor-herbivory/00000389_4249426', 'quercus-bicolor-herbivory/00000529_706259',\n",
    "                       'quercus-bicolor-herbivory/00000388_4224563','quercus-bicolor-herbivory/00000602_999036',\n",
    "                       'quercus-bicolor-herbivory/00000462_4293461','quercus-bicolor-herbivory/00000544_706274', \n",
    "                       'quercus-bicolor-herbivory/00000553_706282', 'quercus-bicolor-herbivory/00000422_4287873',\n",
    "                       'quercus-bicolor-herbivory/00000652_1305366','quercus-bicolor-herbivory/00000748_2123424']\n",
    "qb_hole_samples_val = ['quercus-bicolor-herbivory/00000508_268090', 'quercus-bicolor-herbivory/00000724_2038025',\n",
    "                      'quercus-bicolor-herbivory/00000544_706274']\n",
    "\n",
    "qb_margin_samples_val = ['quercus-bicolor-herbivory/00000462_4293461','quercus-bicolor-herbivory/00000750_2144617',\n",
    " 'quercus-bicolor-herbivory/00000544_706274','quercus-bicolor-herbivory/00000747_2085488','quercus-bicolor-herbivory/00000553_706282', 'quercus-bicolor-herbivory/00000553_706282\n",
    "']"
=======
   "execution_count": 31,
   "metadata": {},
   "outputs": [],
   "source": [
    "# qb_skel_samples_val = ['quercus-bicolor-herbivory/00000389_4249426', 'quercus-bicolor-herbivory/00000529_706259',\n",
    "#                        'quercus-bicolor-herbivory/00000388_4224563','quercus-bicolor-herbivory/00000602_999036',\n",
    "#                        'quercus-bicolor-herbivory/00000462_4293461','quercus-bicolor-herbivory/00000544_706274', \n",
    "#                        'quercus-bicolor-herbivory/00000553_706282', 'quercus-bicolor-herbivory/00000422_4287873',\n",
    "#                        'quercus-bicolor-herbivory/00000652_1305366','quercus-bicolor-herbivory/00000748_2123424']\n",
    "# qb_hole_samples_val = ['quercus-bicolor-herbivory/00000508_268090', 'quercus-bicolor-herbivory/00000724_2038025',\n",
    "#                       'quercus-bicolor-herbivory/00000544_706274']\n",
    "\n",
    "# qb_margin_samples_val = ['quercus-bicolor-herbivory/00000462_4293461','quercus-bicolor-herbivory/00000750_2144617',\n",
    "#  'quercus-bicolor-herbivory/00000544_706274','quercus-bicolor-herbivory/00000747_2085488','quercus-bicolor-herbivory/00000553_706282', 'quercus-bicolor-herbivory/00000553_706282\n",
    "# ']"
>>>>>>> new-name
   ]
  },
  {
   "cell_type": "code",
<<<<<<< HEAD
   "execution_count": 3,
=======
   "execution_count": 32,
   "metadata": {},
   "outputs": [],
   "source": [
    "# for phase in partition.keys():\n",
    "#     for img_id in partition[phase]['images'].keys():\n",
    "#         info = partition[phase]['images'][img_id]['info']\n",
    "#         m, n =  info['height'], info['width']\n",
    "#         if n <= 1024 or m <= 1024:\n",
    "#             print(img_id, m,n)"
   ]
  },
  {
   "cell_type": "code",
   "execution_count": 61,
>>>>>>> new-name
   "metadata": {},
   "outputs": [
    {
     "name": "stderr",
     "output_type": "stream",
     "text": [
<<<<<<< HEAD
      "  0%|          | 0/28 [00:00<?, ?it/s]"
     ]
    },
    {
     "name": "stdout",
     "output_type": "stream",
     "text": [
      "qb hole\n",
      "********saving toqb_hole********\n",
      "quercus-bicolor-herbivory/00000619_999053\n"
     ]
    },
=======
      "100%|██████████| 219/219 [08:38<00:00,  2.37s/it]\n"
     ]
    }
   ],
   "source": [
    "root = Path('/usr/xtmp/xs75/leaves/datasets_updated')\n",
    "phase = 'validation'\n",
    "species_type = 'qb'\n",
    "d_type = 'skel'\n",
    "data_type = f'{species_type}_{d_type}_3.0'\n",
    "species = 'quercus-bicolor-herbivory'\n",
    "partition = read_json(f'../../stats/updated/qb_skel_3.0_test_val_to_train.json') \n",
    "labels_map = set_labels(f'../../stats/label_{d_type}.json' )\n",
    "# print(root/f'acts/image/{phase}/{species}/qb_skel_3.0/*.npy')\n",
    "root_leaves=root/'leaves'\n",
    "save_root = root / 'vis'\n",
    "tot_tp = tot_fp = tot_fn = 0\n",
    "save_ = True\n",
    "t_num = 0\n",
    "bound = 10\n",
    "for path in tqdm(glob(root/f'acts/image/{phase}/{species}/{data_type}/*.npy')):\n",
    "    partition_img = partition[phase]['images']\n",
    "    \n",
    "    id_ = path.split('/')[-1].split('.')[0]\n",
    "    img_id = f'{species}/{id_}'\n",
    "    \n",
    "#     path_img = root_leaves/\n",
    "    path_img = root_leaves / partition_img[img_id]['image']\n",
    "    path_label = root_leaves / partition_img[img_id]['label']\n",
    "    path_mask =  root_leaves / partition_img[img_id]['leaf_mask']\n",
    "    label, pl_label = read_image(path_label)\n",
    "    label_original = copy.deepcopy(label)\n",
    "    image,_ = read_image(path_img)\n",
    "    leaf_mask, _ = read_image(path_mask)\n",
    "    for key, value in labels_map[species].items():\n",
    "        label[label== int(key)] = value['number']\n",
    "       \n",
    "    \n",
    "    act = np.load(path)\n",
    "    act = np.squeeze(act) if act.ndim == 3 else act\n",
    "    pos_acts = (act[np.logical_and(label!=0,leaf_mask)])\n",
    "    neg_acts = (act[np.logical_and(label==0,leaf_mask)])\n",
    "\n",
    "    thres = -0\n",
    "    index_neg_1 = np.logical_and(np.logical_and(label==0, act>=thres), leaf_mask)\n",
    "    index_pos_1 = np.logical_and(np.logical_and(label!=0, act>=thres), leaf_mask)\n",
    "    index_pos_0 = np.logical_and(np.logical_and(label!=0, act<thres),leaf_mask)\n",
    "\n",
    "    tot_tp += np.count_nonzero(index_pos_1)\n",
    "    tot_fn += np.count_nonzero(index_pos_0)\n",
    "    tot_fp += np.count_nonzero(index_neg_1)\n",
    "\n",
    "    img_painted = image.copy()\n",
    "    img_painted[index_neg_1]=[255,0,0] #FP\n",
    "    #     img_red[index_pos_1]=[255,0,0]\n",
    "    img_painted[index_pos_0]=[0,0,255] #FN\n",
    "    img_painted[index_pos_1]=[0,255,0] #TPv\n",
    "#     plt_samples([image,label,img_painted], 1,3,figsize=(20,30),cmap='gray')\n",
    "#     if t_num > bound:\n",
    "#         break\n",
    "    if save_:\n",
    "        dir_ = save_root/Path(f'{data_type}/{phase}/{id_}')\n",
    "        try_create_dir(dir_)\n",
    "        save_image(dir_/'img_original.jpeg', image)\n",
    "        save_image(dir_/'label_skel.png', label, pl_label)\n",
    "        save_image(dir_/'label_original.png', label_original, pl_label)\n",
    "        save_image(dir_/'img_painted.jpeg', img_painted)\n",
    "    else:\n",
    "        plt_samples([image,label,img_painted], 1,3,figsize=(20,30),cmap='gray')\n",
    "        plt.show()\n",
    "    t_num += 1"
   ]
  },
  {
   "cell_type": "code",
   "execution_count": 41,
   "metadata": {},
   "outputs": [
    {
     "data": {
      "text/plain": [
       "{'image': 'quercus-bicolor-herbivory/images_clean/4259552.jpeg',\n",
       " 'label': 'quercus-bicolor-herbivory/releases/3.0-qb-corrected-test-val/other_formats/semantic_mask/masks_clean/4259552.png',\n",
       " 'leaf_mask': 'quercus-bicolor-herbivory/images_clean_leaf_mask/4259552.png',\n",
       " 'id': 'quercus-bicolor-herbivory/4259552',\n",
       " 'info': {'height': 3093, 'width': 3388}}"
      ]
     },
     "execution_count": 41,
     "metadata": {},
     "output_type": "execute_result"
    }
   ],
   "source": []
  },
  {
   "cell_type": "code",
   "execution_count": 12,
   "metadata": {},
   "outputs": [
>>>>>>> new-name
    {
     "name": "stderr",
     "output_type": "stream",
     "text": [
<<<<<<< HEAD
      "  0%|          | 0/28 [00:01<?, ?it/s]\n",
      "ERROR:root:Internal Python error in the inspect module.\n",
      "Below is the traceback from this internal error.\n",
      "\n"
=======
      "  0%|          | 0/28 [00:00<?, ?it/s]"
>>>>>>> new-name
     ]
    },
    {
     "name": "stdout",
     "output_type": "stream",
     "text": [
<<<<<<< HEAD
      "Traceback (most recent call last):\n",
      "  File \"/usr/xtmp/xs75/anaconda3/lib/python3.8/site-packages/IPython/core/interactiveshell.py\", line 3437, in run_code\n",
      "    exec(code_obj, self.user_global_ns, self.user_ns)\n",
      "  File \"<ipython-input-3-0c407ab79197>\", line 57, in <module>\n",
      "    index_neg_1 = np.logical_and(np.logical_and(label==0, act>=thres), leaf_mask)\n",
      "ValueError: operands could not be broadcast together with shapes (3520,3241) (3520,3241,1) \n",
      "\n",
      "During handling of the above exception, another exception occurred:\n",
      "\n",
      "Traceback (most recent call last):\n",
      "  File \"/usr/xtmp/xs75/anaconda3/lib/python3.8/site-packages/IPython/core/interactiveshell.py\", line 2061, in showtraceback\n",
      "    stb = value._render_traceback_()\n",
      "AttributeError: 'ValueError' object has no attribute '_render_traceback_'\n",
      "\n",
      "During handling of the above exception, another exception occurred:\n",
      "\n",
      "Traceback (most recent call last):\n",
      "  File \"/usr/xtmp/xs75/anaconda3/lib/python3.8/site-packages/IPython/core/ultratb.py\", line 1101, in get_records\n",
      "    return _fixed_getinnerframes(etb, number_of_lines_of_context, tb_offset)\n",
      "  File \"/usr/xtmp/xs75/anaconda3/lib/python3.8/site-packages/IPython/core/ultratb.py\", line 248, in wrapped\n",
      "    return f(*args, **kwargs)\n",
      "  File \"/usr/xtmp/xs75/anaconda3/lib/python3.8/site-packages/IPython/core/ultratb.py\", line 281, in _fixed_getinnerframes\n",
      "    records = fix_frame_records_filenames(inspect.getinnerframes(etb, context))\n",
      "  File \"/usr/xtmp/xs75/anaconda3/lib/python3.8/inspect.py\", line 1515, in getinnerframes\n",
      "    frameinfo = (tb.tb_frame,) + getframeinfo(tb, context)\n",
      "  File \"/usr/xtmp/xs75/anaconda3/lib/python3.8/inspect.py\", line 1473, in getframeinfo\n",
      "    filename = getsourcefile(frame) or getfile(frame)\n",
      "  File \"/usr/xtmp/xs75/anaconda3/lib/python3.8/inspect.py\", line 708, in getsourcefile\n",
      "    if getattr(getmodule(object, filename), '__loader__', None) is not None:\n",
      "  File \"/usr/xtmp/xs75/anaconda3/lib/python3.8/inspect.py\", line 751, in getmodule\n",
      "    f = getabsfile(module)\n",
      "  File \"/usr/xtmp/xs75/anaconda3/lib/python3.8/inspect.py\", line 720, in getabsfile\n",
      "    _filename = getsourcefile(object) or getfile(object)\n",
      "  File \"/usr/xtmp/xs75/anaconda3/lib/python3.8/inspect.py\", line 705, in getsourcefile\n",
      "    if os.path.exists(filename):\n",
      "  File \"/usr/xtmp/xs75/anaconda3/lib/python3.8/genericpath.py\", line 19, in exists\n",
      "    os.stat(path)\n",
      "KeyboardInterrupt\n"
     ]
    },
    {
     "ename": "TypeError",
     "evalue": "object of type 'NoneType' has no len()",
     "output_type": "error",
     "traceback": [
      "\u001b[0;31m---------------------------------------------------------------------------\u001b[0m",
      "\u001b[0;31mValueError\u001b[0m                                Traceback (most recent call last)",
      "    \u001b[0;31m[... skipping hidden 1 frame]\u001b[0m\n",
      "\u001b[0;32m<ipython-input-3-0c407ab79197>\u001b[0m in \u001b[0;36m<module>\u001b[0;34m\u001b[0m\n\u001b[1;32m     56\u001b[0m                 \u001b[0mthres\u001b[0m \u001b[0;34m=\u001b[0m \u001b[0;34m-\u001b[0m\u001b[0;36m0\u001b[0m\u001b[0;34m\u001b[0m\u001b[0;34m\u001b[0m\u001b[0m\n\u001b[0;32m---> 57\u001b[0;31m                 \u001b[0mindex_neg_1\u001b[0m \u001b[0;34m=\u001b[0m \u001b[0mnp\u001b[0m\u001b[0;34m.\u001b[0m\u001b[0mlogical_and\u001b[0m\u001b[0;34m(\u001b[0m\u001b[0mnp\u001b[0m\u001b[0;34m.\u001b[0m\u001b[0mlogical_and\u001b[0m\u001b[0;34m(\u001b[0m\u001b[0mlabel\u001b[0m\u001b[0;34m==\u001b[0m\u001b[0;36m0\u001b[0m\u001b[0;34m,\u001b[0m \u001b[0mact\u001b[0m\u001b[0;34m>=\u001b[0m\u001b[0mthres\u001b[0m\u001b[0;34m)\u001b[0m\u001b[0;34m,\u001b[0m \u001b[0mleaf_mask\u001b[0m\u001b[0;34m)\u001b[0m\u001b[0;34m\u001b[0m\u001b[0;34m\u001b[0m\u001b[0m\n\u001b[0m\u001b[1;32m     58\u001b[0m                 \u001b[0mindex_pos_1\u001b[0m \u001b[0;34m=\u001b[0m \u001b[0mnp\u001b[0m\u001b[0;34m.\u001b[0m\u001b[0mlogical_and\u001b[0m\u001b[0;34m(\u001b[0m\u001b[0mnp\u001b[0m\u001b[0;34m.\u001b[0m\u001b[0mlogical_and\u001b[0m\u001b[0;34m(\u001b[0m\u001b[0mlabel\u001b[0m\u001b[0;34m!=\u001b[0m\u001b[0;36m0\u001b[0m\u001b[0;34m,\u001b[0m \u001b[0mact\u001b[0m\u001b[0;34m>=\u001b[0m\u001b[0mthres\u001b[0m\u001b[0;34m)\u001b[0m\u001b[0;34m,\u001b[0m \u001b[0mleaf_mask\u001b[0m\u001b[0;34m)\u001b[0m\u001b[0;34m\u001b[0m\u001b[0;34m\u001b[0m\u001b[0m\n",
      "\u001b[0;31mValueError\u001b[0m: operands could not be broadcast together with shapes (3520,3241) (3520,3241,1) ",
      "\nDuring handling of the above exception, another exception occurred:\n",
      "\u001b[0;31mAttributeError\u001b[0m                            Traceback (most recent call last)",
      "\u001b[0;32m/usr/xtmp/xs75/anaconda3/lib/python3.8/site-packages/IPython/core/interactiveshell.py\u001b[0m in \u001b[0;36mshowtraceback\u001b[0;34m(self, exc_tuple, filename, tb_offset, exception_only, running_compiled_code)\u001b[0m\n\u001b[1;32m   2060\u001b[0m                         \u001b[0;31m# in the engines. This should return a list of strings.\u001b[0m\u001b[0;34m\u001b[0m\u001b[0;34m\u001b[0m\u001b[0;34m\u001b[0m\u001b[0m\n\u001b[0;32m-> 2061\u001b[0;31m                         \u001b[0mstb\u001b[0m \u001b[0;34m=\u001b[0m \u001b[0mvalue\u001b[0m\u001b[0;34m.\u001b[0m\u001b[0m_render_traceback_\u001b[0m\u001b[0;34m(\u001b[0m\u001b[0;34m)\u001b[0m\u001b[0;34m\u001b[0m\u001b[0;34m\u001b[0m\u001b[0m\n\u001b[0m\u001b[1;32m   2062\u001b[0m                     \u001b[0;32mexcept\u001b[0m \u001b[0mException\u001b[0m\u001b[0;34m:\u001b[0m\u001b[0;34m\u001b[0m\u001b[0;34m\u001b[0m\u001b[0m\n",
      "\u001b[0;31mAttributeError\u001b[0m: 'ValueError' object has no attribute '_render_traceback_'",
      "\nDuring handling of the above exception, another exception occurred:\n",
      "\u001b[0;31mTypeError\u001b[0m                                 Traceback (most recent call last)",
      "    \u001b[0;31m[... skipping hidden 1 frame]\u001b[0m\n",
      "\u001b[0;32m/usr/xtmp/xs75/anaconda3/lib/python3.8/site-packages/IPython/core/interactiveshell.py\u001b[0m in \u001b[0;36mshowtraceback\u001b[0;34m(self, exc_tuple, filename, tb_offset, exception_only, running_compiled_code)\u001b[0m\n\u001b[1;32m   2061\u001b[0m                         \u001b[0mstb\u001b[0m \u001b[0;34m=\u001b[0m \u001b[0mvalue\u001b[0m\u001b[0;34m.\u001b[0m\u001b[0m_render_traceback_\u001b[0m\u001b[0;34m(\u001b[0m\u001b[0;34m)\u001b[0m\u001b[0;34m\u001b[0m\u001b[0;34m\u001b[0m\u001b[0m\n\u001b[1;32m   2062\u001b[0m                     \u001b[0;32mexcept\u001b[0m \u001b[0mException\u001b[0m\u001b[0;34m:\u001b[0m\u001b[0;34m\u001b[0m\u001b[0;34m\u001b[0m\u001b[0m\n\u001b[0;32m-> 2063\u001b[0;31m                         stb = self.InteractiveTB.structured_traceback(etype,\n\u001b[0m\u001b[1;32m   2064\u001b[0m                                             value, tb, tb_offset=tb_offset)\n\u001b[1;32m   2065\u001b[0m \u001b[0;34m\u001b[0m\u001b[0m\n",
      "\u001b[0;32m/usr/xtmp/xs75/anaconda3/lib/python3.8/site-packages/IPython/core/ultratb.py\u001b[0m in \u001b[0;36mstructured_traceback\u001b[0;34m(self, etype, value, tb, tb_offset, number_of_lines_of_context)\u001b[0m\n\u001b[1;32m   1365\u001b[0m         \u001b[0;32melse\u001b[0m\u001b[0;34m:\u001b[0m\u001b[0;34m\u001b[0m\u001b[0;34m\u001b[0m\u001b[0m\n\u001b[1;32m   1366\u001b[0m             \u001b[0mself\u001b[0m\u001b[0;34m.\u001b[0m\u001b[0mtb\u001b[0m \u001b[0;34m=\u001b[0m \u001b[0mtb\u001b[0m\u001b[0;34m\u001b[0m\u001b[0;34m\u001b[0m\u001b[0m\n\u001b[0;32m-> 1367\u001b[0;31m         return FormattedTB.structured_traceback(\n\u001b[0m\u001b[1;32m   1368\u001b[0m             self, etype, value, tb, tb_offset, number_of_lines_of_context)\n\u001b[1;32m   1369\u001b[0m \u001b[0;34m\u001b[0m\u001b[0m\n",
      "\u001b[0;32m/usr/xtmp/xs75/anaconda3/lib/python3.8/site-packages/IPython/core/ultratb.py\u001b[0m in \u001b[0;36mstructured_traceback\u001b[0;34m(self, etype, value, tb, tb_offset, number_of_lines_of_context)\u001b[0m\n\u001b[1;32m   1265\u001b[0m         \u001b[0;32mif\u001b[0m \u001b[0mmode\u001b[0m \u001b[0;32min\u001b[0m \u001b[0mself\u001b[0m\u001b[0;34m.\u001b[0m\u001b[0mverbose_modes\u001b[0m\u001b[0;34m:\u001b[0m\u001b[0;34m\u001b[0m\u001b[0;34m\u001b[0m\u001b[0m\n\u001b[1;32m   1266\u001b[0m             \u001b[0;31m# Verbose modes need a full traceback\u001b[0m\u001b[0;34m\u001b[0m\u001b[0;34m\u001b[0m\u001b[0;34m\u001b[0m\u001b[0m\n\u001b[0;32m-> 1267\u001b[0;31m             return VerboseTB.structured_traceback(\n\u001b[0m\u001b[1;32m   1268\u001b[0m                 \u001b[0mself\u001b[0m\u001b[0;34m,\u001b[0m \u001b[0metype\u001b[0m\u001b[0;34m,\u001b[0m \u001b[0mvalue\u001b[0m\u001b[0;34m,\u001b[0m \u001b[0mtb\u001b[0m\u001b[0;34m,\u001b[0m \u001b[0mtb_offset\u001b[0m\u001b[0;34m,\u001b[0m \u001b[0mnumber_of_lines_of_context\u001b[0m\u001b[0;34m\u001b[0m\u001b[0;34m\u001b[0m\u001b[0m\n\u001b[1;32m   1269\u001b[0m             )\n",
      "\u001b[0;32m/usr/xtmp/xs75/anaconda3/lib/python3.8/site-packages/IPython/core/ultratb.py\u001b[0m in \u001b[0;36mstructured_traceback\u001b[0;34m(self, etype, evalue, etb, tb_offset, number_of_lines_of_context)\u001b[0m\n\u001b[1;32m   1122\u001b[0m         \u001b[0;34m\"\"\"Return a nice text document describing the traceback.\"\"\"\u001b[0m\u001b[0;34m\u001b[0m\u001b[0;34m\u001b[0m\u001b[0m\n\u001b[1;32m   1123\u001b[0m \u001b[0;34m\u001b[0m\u001b[0m\n\u001b[0;32m-> 1124\u001b[0;31m         formatted_exception = self.format_exception_as_a_whole(etype, evalue, etb, number_of_lines_of_context,\n\u001b[0m\u001b[1;32m   1125\u001b[0m                                                                tb_offset)\n\u001b[1;32m   1126\u001b[0m \u001b[0;34m\u001b[0m\u001b[0m\n",
      "\u001b[0;32m/usr/xtmp/xs75/anaconda3/lib/python3.8/site-packages/IPython/core/ultratb.py\u001b[0m in \u001b[0;36mformat_exception_as_a_whole\u001b[0;34m(self, etype, evalue, etb, number_of_lines_of_context, tb_offset)\u001b[0m\n\u001b[1;32m   1080\u001b[0m \u001b[0;34m\u001b[0m\u001b[0m\n\u001b[1;32m   1081\u001b[0m \u001b[0;34m\u001b[0m\u001b[0m\n\u001b[0;32m-> 1082\u001b[0;31m         \u001b[0mlast_unique\u001b[0m\u001b[0;34m,\u001b[0m \u001b[0mrecursion_repeat\u001b[0m \u001b[0;34m=\u001b[0m \u001b[0mfind_recursion\u001b[0m\u001b[0;34m(\u001b[0m\u001b[0morig_etype\u001b[0m\u001b[0;34m,\u001b[0m \u001b[0mevalue\u001b[0m\u001b[0;34m,\u001b[0m \u001b[0mrecords\u001b[0m\u001b[0;34m)\u001b[0m\u001b[0;34m\u001b[0m\u001b[0;34m\u001b[0m\u001b[0m\n\u001b[0m\u001b[1;32m   1083\u001b[0m \u001b[0;34m\u001b[0m\u001b[0m\n\u001b[1;32m   1084\u001b[0m         \u001b[0mframes\u001b[0m \u001b[0;34m=\u001b[0m \u001b[0mself\u001b[0m\u001b[0;34m.\u001b[0m\u001b[0mformat_records\u001b[0m\u001b[0;34m(\u001b[0m\u001b[0mrecords\u001b[0m\u001b[0;34m,\u001b[0m \u001b[0mlast_unique\u001b[0m\u001b[0;34m,\u001b[0m \u001b[0mrecursion_repeat\u001b[0m\u001b[0;34m)\u001b[0m\u001b[0;34m\u001b[0m\u001b[0;34m\u001b[0m\u001b[0m\n",
      "\u001b[0;32m/usr/xtmp/xs75/anaconda3/lib/python3.8/site-packages/IPython/core/ultratb.py\u001b[0m in \u001b[0;36mfind_recursion\u001b[0;34m(etype, value, records)\u001b[0m\n\u001b[1;32m    380\u001b[0m     \u001b[0;31m# first frame (from in to out) that looks different.\u001b[0m\u001b[0;34m\u001b[0m\u001b[0;34m\u001b[0m\u001b[0;34m\u001b[0m\u001b[0m\n\u001b[1;32m    381\u001b[0m     \u001b[0;32mif\u001b[0m \u001b[0;32mnot\u001b[0m \u001b[0mis_recursion_error\u001b[0m\u001b[0;34m(\u001b[0m\u001b[0metype\u001b[0m\u001b[0;34m,\u001b[0m \u001b[0mvalue\u001b[0m\u001b[0;34m,\u001b[0m \u001b[0mrecords\u001b[0m\u001b[0;34m)\u001b[0m\u001b[0;34m:\u001b[0m\u001b[0;34m\u001b[0m\u001b[0;34m\u001b[0m\u001b[0m\n\u001b[0;32m--> 382\u001b[0;31m         \u001b[0;32mreturn\u001b[0m \u001b[0mlen\u001b[0m\u001b[0;34m(\u001b[0m\u001b[0mrecords\u001b[0m\u001b[0;34m)\u001b[0m\u001b[0;34m,\u001b[0m \u001b[0;36m0\u001b[0m\u001b[0;34m\u001b[0m\u001b[0;34m\u001b[0m\u001b[0m\n\u001b[0m\u001b[1;32m    383\u001b[0m \u001b[0;34m\u001b[0m\u001b[0m\n\u001b[1;32m    384\u001b[0m     \u001b[0;31m# Select filename, lineno, func_name to track frames with\u001b[0m\u001b[0;34m\u001b[0m\u001b[0;34m\u001b[0m\u001b[0;34m\u001b[0m\u001b[0m\n",
      "\u001b[0;31mTypeError\u001b[0m: object of type 'NoneType' has no len()"
=======
      "qb skel\n",
      "********saving toqb_skel********\n",
      "quercus-bicolor-herbivory/00000389_4249426\n"
     ]
    },
    {
     "name": "stderr",
     "output_type": "stream",
     "text": [
      "100%|██████████| 28/28 [00:01<00:00, 17.15it/s]\n"
>>>>>>> new-name
     ]
    }
   ],
   "source": [
<<<<<<< HEAD
    "phases = ['validation'] #, 'testing'\n",
    "dtypes = ['hole'] #,'skel','hole' 'margin'\n",
    "species_types = ['qb'] #'qb', 'os', 'ql'\n",
    "is_img = \"_img\"\n",
    "# iter_ = 20\n",
    "save_=False\n",
    "save_root = Path(\"/usr/xtmp/xs75/leaves/datasets/vis/single_damge_single_species/\")\n",
=======
    "phases = ['validation'] #, 'validation', 'testing'\n",
    "dtypes = ['skel'] #,'skel','hole' 'margin'\n",
    "species_types = ['qb'] #'qb', 'os', 'ql'\n",
    "is_img = \"\"\n",
    "# iter_ = 20\n",
    "save_=True\n",
    "# save_root = Path(\"/usr/xtmp/xs75/leaves/datasets/vis/single_damge_single_species/\")\n",
    "save_root = './'\n",
    "root = Path('/usr/xtmp/xs75/leaves/datasets_updated/acts/image')\n",
>>>>>>> new-name
    "for phase in phases:\n",
    "    for d_type in dtypes:\n",
    "        for species_type in species_types:\n",
    "            print(species_type, d_type)\n",
    "    # phase='validation' # validation testing\n",
    "    # d_type= 'margin'\n",
    "    # species_type = 'qb'\n",
    "    #         save_=False\n",
    "            data_type = f'{species_type}_{d_type}{is_img}' #'ep300_ql_sk' #f'e{epoch}_al05' #f'e{epoch}_s1r95p05_mask', 'ep1_a001_b11_beta2_mar01'\n",
<<<<<<< HEAD
    "            partition = read_json(f'../../stats/partition_{species_type}_{d_type}.json')  #'../../stats/partition_os_hole.json'\n",
    "            root_leaves = Path('/usr/xtmp/xs75/leaves/datasets/leaves')\n",
    "            root_acts = Path('/usr/xtmp/xs75/leaves/datasets/acts/image')\n",
=======
    "            partition = read_json(f'../../stats/{species_type}_{d_type}_3.0_test_val_to_train.json')  #'../../stats/partition_os_hole.json'\n",
    "            root_leaves = root / 'leaves'\n",
    "            root_acts = root / 'acts/image'\n",
>>>>>>> new-name
    "            labels_map = set_labels(f'../../stats/label_{d_type}.json' )# ../../stats/label_file_common_binary.json' ../../stats/label_skel.json\n",
    "            if save_:\n",
    "                print(f'********saving to{species_type}_{d_type}********')\n",
    "            root=root_acts\n",
    "            pos_acts = []\n",
    "            neg_acts = []\n",
    "            id2paths = partition[phase]['images']\n",
<<<<<<< HEAD
    "            targets= [] #['quercus-bicolor-herbivory/00000389_4249426','quercus-bicolor-herbivory/00000495_26585']\n",
=======
    "            targets= ['quercus-bicolor-herbivory/00000614_999048', 'quercus-bicolor-herbivory/00000587_806675'] #['quercus-bicolor-herbivory/00000389_4249426','quercus-bicolor-herbivory/00000495_26585']\n",
>>>>>>> new-name
    "            # targets=['quercus-lobata/00000293_1619758','quercus-lobata/00000131_1314762',\n",
    "            #          'quercus-lobata/00000181_1314822','quercus-lobata/00000302_1657887',\n",
    "            #          'quercus-lobata/00000384_3819210','quercus-lobata/00000102_1299701']\n",
    "            # targets =[ 'quercus-lobata/00000131_1314762']\n",
    "            tot_tp = tot_fp = tot_fn = 0\n",
    "            i = 0\n",
    "\n",
    "            for path in tqdm(glob(root/phase/f'*/{data_type}/*.npy')):\n",
<<<<<<< HEAD
    "                id_ = os.path.join(path.split('/')[-3:][0], (path.split('/')[-4:][-1]).split('.')[0] )\n",
    "            #     if id_ not in targets:\n",
    "            #         continue\n",
    "                if id_ not in id2paths.keys(): \n",
    "                    continue\n",
    "    #             if id_ not in qb_margin_samples_val:\n",
    "    #                 continue\n",
=======
    "                \n",
    "                id_ = os.path.join(path.split('/')[-3:][0], (path.split('/')[-4:][-1]).split('.')[0] )\n",
    "\n",
    "#                 if id_ not in targets:\n",
    "#                     continue\n",
    "                if id_ not in id2paths.keys(): \n",
    "                    continue\n",
    "                if id_ not in ['quercus-bicolor-herbivory/00000389_4249426']:\n",
    "                    continue\n",
>>>>>>> new-name
    "                print(id_)\n",
    "                label, pl_label = read_image(root_leaves/id2paths[id_]['label'])\n",
    "                image,_ = read_image(root_leaves/id2paths[id_]['image'])\n",
    "                species,name = id_.split('/')\n",
    "                for key, value in labels_map[species].items():\n",
    "                    label[label == int(key)] = value['number']\n",
    "\n",
    "                leaf_mask, _ = read_image(root_leaves/id2paths[id_]['leaf_mask'])\n",
<<<<<<< HEAD
    "                act = np.load(path)\n",
=======
    "                \n",
    "                act = np.load(path)\n",
    "                act = np.squeeze(act) if act.ndim == 3 else act\n",
>>>>>>> new-name
    "                pos_acts = (act[np.logical_and(label!=0,leaf_mask)])\n",
    "                neg_acts = (act[np.logical_and(label==0,leaf_mask)])\n",
    "\n",
    "                thres = -0\n",
    "                index_neg_1 = np.logical_and(np.logical_and(label==0, act>=thres), leaf_mask)\n",
    "                index_pos_1 = np.logical_and(np.logical_and(label!=0, act>=thres), leaf_mask)\n",
    "                index_pos_0 = np.logical_and(np.logical_and(label!=0, act<thres),leaf_mask)\n",
    "\n",
    "                tot_tp += np.count_nonzero(index_pos_1)\n",
<<<<<<< HEAD
    "                tot_fp += np.count_nonzero(index_pos_0)\n",
    "                tot_fn += np.count_nonzero(index_neg_1)\n",
=======
    "                tot_fn += np.count_nonzero(index_pos_0)\n",
    "                tot_fp += np.count_nonzero(index_neg_1)\n",
>>>>>>> new-name
    "\n",
    "                img_red = image.copy()\n",
    "                img_red[index_neg_1]=[255,0,0] #FP\n",
    "            #     img_red[index_pos_1]=[255,0,0]\n",
    "                img_red[index_pos_0]=[0,0,255] #FN\n",
    "                img_red[index_pos_1]=[0,255,0] #TP\n",
    "                if save_:\n",
    "                    dir_ = save_root/Path(f'{data_type}/{phase}/{name}')\n",
    "                    try_create_dir(dir_)\n",
    "                    save_image(dir_/'img_original.jpeg', image)\n",
    "                    save_image(dir_/'label_common.png', label, pl_label)\n",
    "                    label, pl_label = read_image(root_leaves/id2paths[id_]['label'])\n",
    "                    save_image(dir_/'label_original.png', label, pl_label)\n",
    "                    save_image(dir_/'img_painted.jpeg', img_red)\n",
    "                else:\n",
    "                    plt_samples([image,label,img_red], 1,3,figsize=(20,30),cmap='gray')\n",
    "                    plt.show()\n",
    "    #             if i>iter_:\n",
    "    #                 break\n",
    "                i+=1"
   ]
  },
  {
   "cell_type": "code",
<<<<<<< HEAD
   "execution_count": 39,
=======
   "execution_count": null,
   "metadata": {},
   "outputs": [],
   "source": []
  },
  {
   "cell_type": "code",
   "execution_count": null,
   "metadata": {},
   "outputs": [],
   "source": []
  },
  {
   "cell_type": "code",
   "execution_count": 6,
>>>>>>> new-name
   "metadata": {},
   "outputs": [],
   "source": [
    "precicion = tot_tp/(tot_fp + tot_tp)\n",
    "recall = tot_tp/(tot_tp + tot_fn)"
   ]
  },
  {
   "cell_type": "code",
<<<<<<< HEAD
   "execution_count": 40,
=======
   "execution_count": 7,
>>>>>>> new-name
   "metadata": {},
   "outputs": [
    {
     "data": {
      "text/plain": [
<<<<<<< HEAD
       "0.47116538646183387"
      ]
     },
     "execution_count": 40,
=======
       "0.3445434740781658"
      ]
     },
     "execution_count": 7,
>>>>>>> new-name
     "metadata": {},
     "output_type": "execute_result"
    }
   ],
   "source": [
    "precicion"
   ]
  },
  {
   "cell_type": "code",
<<<<<<< HEAD
   "execution_count": 41,
=======
   "execution_count": 8,
>>>>>>> new-name
   "metadata": {},
   "outputs": [
    {
     "data": {
      "text/plain": [
<<<<<<< HEAD
       "0.5108294676026831"
      ]
     },
     "execution_count": 41,
=======
       "0.7228943119074903"
      ]
     },
     "execution_count": 8,
>>>>>>> new-name
     "metadata": {},
     "output_type": "execute_result"
    }
   ],
   "source": [
    "recall"
   ]
  },
  {
   "cell_type": "code",
<<<<<<< HEAD
   "execution_count": 42,
   "metadata": {},
   "outputs": [],
   "source": [
    "f1 =2* precicion*recall/(recall + precicion)"
=======
   "execution_count": 9,
   "metadata": {},
   "outputs": [],
   "source": [
    "f1 =2*precicion*recall/(recall + precicion)"
>>>>>>> new-name
   ]
  },
  {
   "cell_type": "code",
<<<<<<< HEAD
   "execution_count": 43,
=======
   "execution_count": 10,
>>>>>>> new-name
   "metadata": {},
   "outputs": [
    {
     "data": {
      "text/plain": [
<<<<<<< HEAD
       "0.4901963844777909"
      ]
     },
     "execution_count": 43,
=======
       "0.46666610623300314"
      ]
     },
     "execution_count": 10,
>>>>>>> new-name
     "metadata": {},
     "output_type": "execute_result"
    }
   ],
   "source": [
    "f1"
   ]
  },
  {
   "cell_type": "code",
<<<<<<< HEAD
   "execution_count": 4,
   "metadata": {},
   "outputs": [
    {
     "data": {
      "text/plain": [
       "0.39899999999999997"
      ]
     },
     "execution_count": 4,
     "metadata": {},
     "output_type": "execute_result"
    }
   ],
=======
   "execution_count": null,
   "metadata": {},
   "outputs": [],
>>>>>>> new-name
   "source": [
    "2*(0.42*0.38)/(0.42+0.38)"
   ]
  },
  {
   "cell_type": "markdown",
   "metadata": {},
   "source": [
    "# Generate visualize.yml for each single damage and single species"
   ]
  },
  {
   "cell_type": "code",
<<<<<<< HEAD
   "execution_count": 3,
=======
   "execution_count": null,
>>>>>>> new-name
   "metadata": {},
   "outputs": [],
   "source": [
    "# root = Path('../../configs')\n",
    "\n",
    "# exps_name = ['ql_hole_20211206_194620', 'ql_margin_20220203_171154','ql_skel_20211206_194711',\n",
    "#             'qb_margin_20220202_170107','qb_skel_20220202_170425','qb_hole_20220202_170301',\n",
    "#            'os_hole_20220201_121237', 'os_margin_20220201_121536', 'os_skel_20220201_121433']\n",
    "\n",
    "# for exp_name in exps_name:\n",
    "#     species, damage_type = exp_name.split('_')[0:2]\n",
    "#     model_num = 300\n",
    "#     #\n",
    "\n",
    "#     yaml_file = root/'visualize.yml'\n",
    "#     new_file = f'visualize_{species}_{damage_type}.yml'\n",
    "#     config = read_from_yaml(yaml_file,False)\n",
    "\n",
    "#     config['data']['partition_file'] = [f'../../stats/partition_{species}_{damage_type}.json']\n",
    "#     config['data']['label_file'] = f'../../stats/label_{damage_type}.json'\n",
    "#     config['model']['load_from']  = f'/usr/xtmp/xs75/leaves/exps/{exp_name}/model_ep{model_num}_ckpt.pth.tar'\n",
    "#     config['evaluate']['save']['image']['type_name']  = f'{species}_{damage_type}'\n",
    "#     config['evaluate']['save']['log_root'] = f'/usr/xtmp/xs75/leaves/tmp/{species}_{damage_type}_log'\n",
    "#     # print(isinstance(config, dict))\n",
    "\n",
    "#     write_to_yaml(config, root/new_file)"
   ]
  },
  {
   "cell_type": "code",
   "execution_count": null,
   "metadata": {},
   "outputs": [],
   "source": []
  }
 ],
 "metadata": {
  "kernelspec": {
   "display_name": "leaf",
   "language": "python",
   "name": "leaf"
  },
  "language_info": {
   "codemirror_mode": {
    "name": "ipython",
    "version": 3
   },
   "file_extension": ".py",
   "mimetype": "text/x-python",
   "name": "python",
   "nbconvert_exporter": "python",
   "pygments_lexer": "ipython3",
   "version": "3.8.8"
  }
 },
 "nbformat": 4,
 "nbformat_minor": 4
}
