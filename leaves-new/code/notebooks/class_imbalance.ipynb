{
 "cells": [
  {
   "cell_type": "code",
   "execution_count": 1,
   "metadata": {},
   "outputs": [],
   "source": [
    "import numpy as np\n",
    "from path import Path\n",
    "import matplotlib.pyplot as plt\n",
    "from glob import glob\n",
    "from tqdm import tqdm\n",
    "import os\n",
    "import sys\n",
    "sys.path.append('../')\n",
    "import random\n",
    "from tool.data_io import get_data_paths,read_image,read_json,try_create_dir,save_image\n",
    "from tool.yaml_io import read_from_yaml\n",
    "from scipy.special import expit as sigmoid\n",
    "from tool.misc_utils import precision, recall, f_beta\n",
    "\n",
    "import pandas as pd\n",
    "import math\n",
    "# root, id2paths = get_data_paths('../../../configs/data_to_partition.yml')\n",
    "# labels = read_json('../../../stats/label_file_common_binary.json')\n",
    "# root_leaves= Path(root)\n",
    "    \n",
    "root = Path('/usr/xtmp/xs75/leaves/datasets/leaves') #Path('/usr/xtmp/xs75/leaves/experiments/visualization/acts/scores')\n",
    "phase = 'training'\n",
    "root_stats = Path('../../stats/')\n",
    "# labels = read_json('../../stats/label_skel.json') #label_skel.json  label_hole.json label_file_common_binary.json\n",
    "# partitions = read_json('../../stats/partition_ql_ho.json') # partition_ql_ho.json # "
   ]
  },
  {
   "cell_type": "code",
   "execution_count": 2,
   "metadata": {},
   "outputs": [],
   "source": [
    "def get_class_imbalance(root, phase, labels, partitions):\n",
    "    n_pos = 0\n",
    "    n_neg = 0\n",
    "    for img_id in tqdm(partitions[phase]['images']):\n",
    "        p_label = partitions[phase]['images'][img_id]['label']\n",
    "        p_mask = partitions[phase]['images'][img_id]['leaf_mask']\n",
    "        sp, base_name = img_id.split('/')\n",
    "        path_label = os.path.join(root, p_label)\n",
    "        path_mask = os.path.join(root, p_mask)\n",
    "        label, _ = read_image(path_label)\n",
    "        mask, _ = read_image(path_mask)\n",
    "        for key, value in labels[sp].items():\n",
    "            label[label == int(key)] = value['number']\n",
    "        n_leaf = np.count_nonzero(mask)\n",
    "        n_damge = np.count_nonzero(np.logical_and(label,mask))\n",
    "        n_pos += n_damge \n",
    "        n_neg += n_leaf - n_damge\n",
    "    return n_neg/n_pos, n_neg, n_pos"
   ]
  },
  {
   "cell_type": "code",
   "execution_count": 4,
   "metadata": {},
   "outputs": [
    {
     "name": "stderr",
     "output_type": "stream",
     "text": [
      "100%|██████████| 212/212 [00:24<00:00,  8.53it/s]\n",
      "100%|██████████| 212/212 [00:24<00:00,  8.73it/s]\n",
      "100%|██████████| 212/212 [00:24<00:00,  8.76it/s]\n",
      "  3%|▎         | 2/76 [00:00<00:05, 14.59it/s]"
     ]
    },
    {
     "name": "stdout",
     "output_type": "stream",
     "text": [
      "partition_ql_hole.json [(443.3436266668985, 1223990178, 2760816), (170.42470182187245, 1219594785, 7156209), (1426.7329632345238, 1225891764, 859230)]\n"
     ]
    },
    {
     "name": "stderr",
     "output_type": "stream",
     "text": [
      "100%|██████████| 76/76 [00:07<00:00,  9.81it/s]\n",
      "100%|██████████| 76/76 [00:05<00:00, 13.98it/s]\n",
      "100%|██████████| 76/76 [00:05<00:00, 13.86it/s]\n",
      "  0%|          | 0/219 [00:00<?, ?it/s]"
     ]
    },
    {
     "name": "stdout",
     "output_type": "stream",
     "text": [
      "partition_os_hole.json [(442.37640918340037, 307410021, 694906), (230.9674204295206, 306776702, 1328225), (890.6827587604042, 307759395, 345532)]\n"
     ]
    },
    {
     "name": "stderr",
     "output_type": "stream",
     "text": [
      "100%|██████████| 219/219 [00:30<00:00,  7.27it/s]\n",
      "100%|██████████| 219/219 [00:24<00:00,  9.06it/s]\n",
      "100%|██████████| 219/219 [00:24<00:00,  9.05it/s]"
     ]
    },
    {
     "name": "stdout",
     "output_type": "stream",
     "text": [
      "partition_qb_hole.json [(338.11684942766635, 1450839452, 4290941), (212.99127420311203, 1448330441, 6799952), (347.1119056761079, 1450950328, 4180065)]\n"
     ]
    },
    {
     "name": "stderr",
     "output_type": "stream",
     "text": [
      "\n"
     ]
    }
   ],
   "source": [
    "for part_file in ['partition_ql_hole.json', 'partition_os_hole.json','partition_qb_hole.json']:\n",
    "    list_ib = []\n",
    "    for label_file in ['label_skel.json','label_margin.json','label_hole.json']:\n",
    "        labels = read_json(root_stats/label_file)\n",
    "        partitions = read_json(root_stats/part_file)\n",
    "        ib = get_class_imbalance(root,phase, labels, partitions)\n",
    "        list_ib += [ib]\n",
    "    print(part_file, list_ib)"
   ]
  },
  {
   "cell_type": "code",
   "execution_count": 70,
   "metadata": {},
   "outputs": [
    {
     "data": {
      "text/plain": [
       "1223990178"
      ]
     },
     "execution_count": 70,
     "metadata": {},
     "output_type": "execute_result"
    }
   ],
   "source": [
    "n_neg"
   ]
  },
  {
   "cell_type": "code",
   "execution_count": 71,
   "metadata": {},
   "outputs": [
    {
     "data": {
      "text/plain": [
       "443.3436266668985"
      ]
     },
     "execution_count": 71,
     "metadata": {},
     "output_type": "execute_result"
    }
   ],
   "source": [
    "n_neg/n_pos"
   ]
  },
  {
   "cell_type": "code",
   "execution_count": null,
   "metadata": {},
   "outputs": [],
   "source": []
  },
  {
   "cell_type": "code",
   "execution_count": 3,
   "metadata": {},
   "outputs": [
    {
     "ename": "NameError",
     "evalue": "name 'id2dam' is not defined",
     "output_type": "error",
     "traceback": [
      "\u001b[0;31m---------------------------------------------------------------------------\u001b[0m",
      "\u001b[0;31mNameError\u001b[0m                                 Traceback (most recent call last)",
      "\u001b[0;32m<ipython-input-3-3fcac151c871>\u001b[0m in \u001b[0;36m<module>\u001b[0;34m\u001b[0m\n\u001b[0;32m----> 1\u001b[0;31m \u001b[0mid2stats\u001b[0m \u001b[0;34m=\u001b[0m \u001b[0mget_id2stats\u001b[0m\u001b[0;34m(\u001b[0m\u001b[0mid2dam\u001b[0m\u001b[0;34m)\u001b[0m\u001b[0;34m\u001b[0m\u001b[0;34m\u001b[0m\u001b[0m\n\u001b[0m",
      "\u001b[0;31mNameError\u001b[0m: name 'id2dam' is not defined"
     ]
    }
   ],
   "source": [
    "id2stats = get_id2stats(id2dam)"
   ]
  },
  {
   "cell_type": "markdown",
   "metadata": {},
   "source": [
    "### The Worst 10"
   ]
  },
  {
   "cell_type": "markdown",
   "metadata": {},
   "source": [
    "### The Best10"
   ]
  },
  {
   "cell_type": "code",
   "execution_count": null,
   "metadata": {},
   "outputs": [],
   "source": []
  }
 ],
 "metadata": {
  "kernelspec": {
   "display_name": "Python 3",
   "language": "python",
   "name": "python3"
  },
  "language_info": {
   "codemirror_mode": {
    "name": "ipython",
    "version": 3
   },
   "file_extension": ".py",
   "mimetype": "text/x-python",
   "name": "python",
   "nbconvert_exporter": "python",
   "pygments_lexer": "ipython3",
   "version": "3.6.9"
  }
 },
 "nbformat": 4,
 "nbformat_minor": 4
}
