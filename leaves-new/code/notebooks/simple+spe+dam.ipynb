{
 "cells": [
  {
   "cell_type": "markdown",
   "metadata": {},
   "source": [
    "# Show distribtion of fixed partition for each species\n"
   ]
  },
  {
   "cell_type": "code",
   "execution_count": 1,
   "metadata": {},
   "outputs": [],
   "source": [
    "import numpy as np\n",
    "from path import Path\n",
    "import matplotlib.pyplot as plt\n",
    "from glob import glob\n",
    "from tqdm import tqdm\n",
    "import os\n",
    "import sys\n",
    "sys.path.append('../')\n",
    "import random\n",
    "from tool.data_io import get_data_paths,read_image, read_json,save_json\n",
    "import pandas as pd\n",
    "import copy"
   ]
  },
  {
   "cell_type": "code",
   "execution_count": 2,
   "metadata": {},
   "outputs": [
    {
     "name": "stdout",
     "output_type": "stream",
     "text": [
      "Warning: get_data_paths: read 845 images with ['image', 'label', 'leaf_mask'] from /usr/xtmp/xs75/leaves/datasets/leaves\n"
     ]
    }
   ],
   "source": [
    "root, id2paths = get_data_paths('../../configs/original_leaf.yml')\n",
    "root  = Path(root)\n",
    "partition = read_json('../../stats/partition_clean_tileW512H512M4.json')\n",
    "labels = read_json('../../stats/label_file_common_binary.json')\n",
    "sp2short={'quercus-lobata':'ql', 'quercus-bicolor-herbivory':'qb', 'onoclea-sensibilis-herbivory':'os'}\n",
    "d2short={'__background__':'bg','hole':'ho','margin':'mar', 'skel':'sk'}"
   ]
  },
  {
   "cell_type": "code",
   "execution_count": 65,
   "metadata": {},
   "outputs": [
    {
     "data": {
      "text/html": [
       "<div>\n",
       "<style scoped>\n",
       "    .dataframe tbody tr th:only-of-type {\n",
       "        vertical-align: middle;\n",
       "    }\n",
       "\n",
       "    .dataframe tbody tr th {\n",
       "        vertical-align: top;\n",
       "    }\n",
       "\n",
       "    .dataframe thead th {\n",
       "        text-align: right;\n",
       "    }\n",
       "</style>\n",
       "<table border=\"1\" class=\"dataframe\">\n",
       "  <thead>\n",
       "    <tr style=\"text-align: right;\">\n",
       "      <th></th>\n",
       "      <th>training</th>\n",
       "      <th>validation</th>\n",
       "      <th>testing</th>\n",
       "    </tr>\n",
       "  </thead>\n",
       "  <tbody>\n",
       "    <tr>\n",
       "      <td>quercus-lobata</td>\n",
       "      <td>212</td>\n",
       "      <td>38</td>\n",
       "      <td>111</td>\n",
       "    </tr>\n",
       "    <tr>\n",
       "      <td>quercus-bicolor-herbivory</td>\n",
       "      <td>219</td>\n",
       "      <td>28</td>\n",
       "      <td>98</td>\n",
       "    </tr>\n",
       "    <tr>\n",
       "      <td>onoclea-sensibilis-herbivory</td>\n",
       "      <td>76</td>\n",
       "      <td>18</td>\n",
       "      <td>45</td>\n",
       "    </tr>\n",
       "  </tbody>\n",
       "</table>\n",
       "</div>"
      ],
      "text/plain": [
       "                              training  validation  testing\n",
       "quercus-lobata                     212          38      111\n",
       "quercus-bicolor-herbivory          219          28       98\n",
       "onoclea-sensibilis-herbivory        76          18       45"
      ]
     },
     "execution_count": 65,
     "metadata": {},
     "output_type": "execute_result"
    }
   ],
   "source": [
    "phase2spec={}\n",
    "for phase, its in partition.items():\n",
    "    if phase not in phase2spec.keys():\n",
    "        phase2spec[phase]={}\n",
    "    for it in its['images'].keys():\n",
    "        sp,_=it.split('/')\n",
    "        if sp not in phase2spec[phase].keys():\n",
    "            phase2spec[phase][sp] = 0\n",
    "        phase2spec[phase][sp]+=1\n",
    "\n",
    "dis_sp = pd.DataFrame.from_dict(phase2spec)\n",
    "dis_sp"
   ]
  },
  {
   "cell_type": "code",
   "execution_count": 73,
   "metadata": {},
   "outputs": [
    {
     "name": "stderr",
     "output_type": "stream",
     "text": [
      "100%|██████████| 507/507 [01:56<00:00,  4.34it/s]\n",
      "100%|██████████| 84/84 [00:18<00:00,  4.63it/s]\n",
      "100%|██████████| 254/254 [00:58<00:00,  4.37it/s]\n"
     ]
    }
   ],
   "source": [
    "sp2dm={}\n",
    "for phase, ps in partition.items():\n",
    "    if phase not in sp2dm.keys():\n",
    "        sp2dm[phase]={}    \n",
    "    for id_,pth in tqdm(ps['images'].items()):\n",
    "        sp,_=id_.split('/')\n",
    "        sp_short=sp2short[sp]\n",
    "        if sp_short not in sp2dm[phase].keys():\n",
    "            sp2dm[phase][sp_short]={}\n",
    "        label, _ = read_image(root/pth['label'])\n",
    "        mask, _ = read_image(root/pth['leaf_mask'])\n",
    "        label = label*mask.astype('float')\n",
    "        for k,v in labels[sp].items():\n",
    "            name_d=d2short[v['label']]\n",
    "            if  name_d not in sp2dm[phase][sp_short].keys():\n",
    "                sp2dm[phase][sp_short][name_d]=0\n",
    "            sp2dm[phase][sp_short][name_d] += int((label==int(k)).sum())"
   ]
  },
  {
   "cell_type": "code",
   "execution_count": 76,
   "metadata": {},
   "outputs": [],
   "source": [
    "sp2dm = read_json('sp2dm.json')"
   ]
  },
  {
   "cell_type": "code",
   "execution_count": 48,
   "metadata": {},
   "outputs": [],
   "source": [
    "for sp, v in sp2dm.items():\n",
    "    dis_sp_d = pd.DataFrame.from_dict(sp2dm[sp])"
   ]
  },
  {
   "cell_type": "code",
   "execution_count": 93,
   "metadata": {},
   "outputs": [
    {
     "data": {
      "image/png": "[encoded data removed]",
      "text/plain": [
       "<Figure size 720x432 with 1 Axes>"
      ]
     },
     "metadata": {
      "needs_background": "light"
     },
     "output_type": "display_data"
    }
   ],
   "source": [
    "# pd.DataFrame.from_dict(sp2dm['training'])\n",
    "def plt_damge_distribution(phase, sp2dm,figsize=(10,6)):\n",
    "    list_x = []\n",
    "    list_y= []\n",
    "    for sp, it in sp2dm[phase].items():\n",
    "        for k, v in it.items():\n",
    "            if k == 'bg':\n",
    "                continue\n",
    "            list_x += [sp+'/'+k]\n",
    "            list_y += [v]\n",
    "    \n",
    "    plt.figure(figsize=figsize)\n",
    "    plt.title(phase)\n",
    "    colors = ['b','maroon','g']   \n",
    "    for i in range(3):\n",
    "        plt.bar(list_x[i*3:i*3+3], list_y[i*3:i*3+3],color=colors[i], width = 0.4)\n",
    "        plt.ylabel('num of pixels')\n",
    "        plt.xlabel('species/damage')\n",
    "plt_damge_distribution('training', sp2dm)"
   ]
  },
  {
   "cell_type": "code",
   "execution_count": 94,
   "metadata": {},
   "outputs": [
    {
     "data": {
      "image/png": "[encoded data removed]",
      "text/plain": [
       "<Figure size 720x432 with 1 Axes>"
      ]
     },
     "metadata": {
      "needs_background": "light"
     },
     "output_type": "display_data"
    }
   ],
   "source": [
    "plt_damge_distribution('validation', sp2dm)"
   ]
  },
  {
   "cell_type": "code",
   "execution_count": 95,
   "metadata": {},
   "outputs": [
    {
     "data": {
      "image/png": "[encoded data removed]",
      "text/plain": [
       "<Figure size 720x432 with 1 Axes>"
      ]
     },
     "metadata": {
      "needs_background": "light"
     },
     "output_type": "display_data"
    }
   ],
   "source": [
    "plt_damge_distribution('testing', sp2dm)"
   ]
  },
  {
   "cell_type": "code",
   "execution_count": null,
   "metadata": {},
   "outputs": [],
   "source": []
  },
  {
   "cell_type": "code",
   "execution_count": 100,
   "metadata": {},
   "outputs": [
    {
     "data": {
      "image/png": "[encoded data removed]",
      "text/plain": [
       "<Figure size 720x432 with 1 Axes>"
      ]
     },
     "metadata": {
      "needs_background": "light"
     },
     "output_type": "display_data"
    }
   ],
   "source": [
    "def plt_damge_distribution(species, sp2dm,figsize=(10,6)):\n",
    "    phase2short={'training':'tr','validation':'val','testing':'te'}\n",
    "    list_x = []\n",
    "    list_y= []\n",
    "    for phase in sp2dm.keys():\n",
    "        for sp, it in sp2dm[phase].items():\n",
    "            if sp != species:\n",
    "                continue\n",
    "            for k, v in it.items():\n",
    "                if k == 'bg':\n",
    "                    continue\n",
    "                list_x += [phase2short[phase]+'/'+k]\n",
    "                list_y += [v]\n",
    "\n",
    "    plt.figure(figsize=figsize)\n",
    "    plt.title(species)\n",
    "    colors = ['b','maroon','g']   \n",
    "    for i in range(3):\n",
    "        plt.bar(list_x[i*3:i*3+3], list_y[i*3:i*3+3],color=colors[i], width = 0.4)\n",
    "        plt.ylabel('num of pixels')\n",
    "        plt.xlabel('phase/damage')\n",
    "plt_damge_distribution('ql', sp2dm,figsize=(10,6))"
   ]
  },
  {
   "cell_type": "code",
   "execution_count": 101,
   "metadata": {},
   "outputs": [
    {
     "data": {
      "image/png": "[encoded data removed]",
      "text/plain": [
       "<Figure size 720x432 with 1 Axes>"
      ]
     },
     "metadata": {
      "needs_background": "light"
     },
     "output_type": "display_data"
    }
   ],
   "source": [
    "plt_damge_distribution('os', sp2dm,figsize=(10,6))"
   ]
  },
  {
   "cell_type": "code",
   "execution_count": 102,
   "metadata": {},
   "outputs": [
    {
     "data": {
      "image/png": "[encoded data removed]",
      "text/plain": [
       "<Figure size 720x432 with 1 Axes>"
      ]
     },
     "metadata": {
      "needs_background": "light"
     },
     "output_type": "display_data"
    }
   ],
   "source": [
    "plt_damge_distribution('qb', sp2dm,figsize=(10,6))"
   ]
  },
  {
   "cell_type": "markdown",
   "metadata": {},
   "source": [
    "# Single Label"
   ]
  },
  {
   "cell_type": "code",
   "execution_count": 126,
   "metadata": {},
   "outputs": [
    {
     "data": {
      "text/plain": [
       "{'quercus-bicolor-herbivory': {'0': {'label': '__background__',\n",
       "   'number': 0,\n",
       "   'color': [0, 0, 0]},\n",
       "  '1': {'label': '__background__', 'number': 0, 'color': [0, 0, 0]},\n",
       "  '2': {'label': 'hole', 'number': 1, 'color': [255, 255, 255]},\n",
       "  '3': {'label': 'margin', 'number': 1, 'color': [255, 255, 255]},\n",
       "  '4': {'label': '__background__', 'number': 0, 'color': [0, 0, 0]},\n",
       "  '5': {'label': 'skel', 'number': 1, 'color': [255, 255, 255]}},\n",
       " 'onoclea-sensibilis-herbivory': {'0': {'label': '__background__',\n",
       "   'number': 0,\n",
       "   'color': [0, 0, 0]},\n",
       "  '1': {'label': 'hole', 'number': 1, 'color': [255, 255, 255]},\n",
       "  '2': {'label': 'margin', 'number': 1, 'color': [255, 255, 255]},\n",
       "  '3': {'label': 'skel', 'number': 1, 'color': [255, 255, 255]}},\n",
       " 'quercus-lobata': {'0': {'label': '__background__',\n",
       "   'number': 0,\n",
       "   'color': [0, 0, 0]},\n",
       "  '1': {'label': '__background__', 'number': 0, 'color': [0, 0, 0]},\n",
       "  '2': {'label': 'hole', 'number': 1, 'color': [255, 255, 255]},\n",
       "  '3': {'label': 'margin', 'number': 1, 'color': [255, 255, 255]},\n",
       "  '4': {'label': '__background__', 'number': 0, 'color': [0, 0, 0]},\n",
       "  '5': {'label': 'skel', 'number': 1, 'color': [255, 255, 255]}}}"
      ]
     },
     "execution_count": 126,
     "metadata": {},
     "output_type": "execute_result"
    }
   ],
   "source": [
    "labels"
   ]
  },
  {
   "cell_type": "code",
   "execution_count": 132,
   "metadata": {},
   "outputs": [],
   "source": [
    "target_sp = ['']\n",
    "file_name = 'label_margin.json'\n",
    "path = Path('/home/users/xs75/Xian/leaf-damage-new/leaves/stats')\n",
    "single_label = copy.deepcopy(labels)\n",
    "for sp, it in labels.items():\n",
    "    for k,v in labels[sp].items():\n",
    "        if v['label'] not in target_sp:\n",
    "            single_label[sp][k]['label']='__background__'\n",
    "            single_label[sp][k]['number'] = 0\n",
    "            single_label[sp][k]['color'] = [0,0,0]\n",
    "save_json(path/file_name,single_label)"
   ]
  },
  {
   "cell_type": "code",
   "execution_count": 134,
   "metadata": {},
   "outputs": [
    {
     "data": {
      "text/plain": [
       "{'quercus-bicolor-herbivory': {'0': {'label': '__background__',\n",
       "   'number': 0,\n",
       "   'color': [0, 0, 0]},\n",
       "  '1': {'label': '__background__', 'number': 0, 'color': [0, 0, 0]},\n",
       "  '2': {'label': 'hole', 'number': 1, 'color': [255, 255, 255]},\n",
       "  '3': {'label': '__background__', 'number': 0, 'color': [0, 0, 0]},\n",
       "  '4': {'label': '__background__', 'number': 0, 'color': [0, 0, 0]},\n",
       "  '5': {'label': 'skel', 'number': 1, 'color': [255, 255, 255]}},\n",
       " 'onoclea-sensibilis-herbivory': {'0': {'label': '__background__',\n",
       "   'number': 0,\n",
       "   'color': [0, 0, 0]},\n",
       "  '1': {'label': 'hole', 'number': 1, 'color': [255, 255, 255]},\n",
       "  '2': {'label': '__background__', 'number': 0, 'color': [0, 0, 0]},\n",
       "  '3': {'label': 'skel', 'number': 1, 'color': [255, 255, 255]}},\n",
       " 'quercus-lobata': {'0': {'label': '__background__',\n",
       "   'number': 0,\n",
       "   'color': [0, 0, 0]},\n",
       "  '1': {'label': '__background__', 'number': 0, 'color': [0, 0, 0]},\n",
       "  '2': {'label': 'hole', 'number': 1, 'color': [255, 255, 255]},\n",
       "  '3': {'label': '__background__', 'number': 0, 'color': [0, 0, 0]},\n",
       "  '4': {'label': '__background__', 'number': 0, 'color': [0, 0, 0]},\n",
       "  '5': {'label': 'skel', 'number': 1, 'color': [255, 255, 255]}}}"
      ]
     },
     "execution_count": 134,
     "metadata": {},
     "output_type": "execute_result"
    }
   ],
   "source": [
    "read_json(path/'label_hole_skel.json')"
   ]
  },
  {
   "cell_type": "markdown",
   "metadata": {},
   "source": [
    "# Single Species"
   ]
  },
  {
   "cell_type": "code",
   "execution_count": null,
   "metadata": {},
   "outputs": [],
   "source": []
  }
 ],
 "metadata": {
  "kernelspec": {
   "display_name": "Python 3",
   "language": "python",
   "name": "python3"
  },
  "language_info": {
   "codemirror_mode": {
    "name": "ipython",
    "version": 3
   },
   "file_extension": ".py",
   "mimetype": "text/x-python",
   "name": "python",
   "nbconvert_exporter": "python",
   "pygments_lexer": "ipython3",
   "version": "3.6.9"
  }
 },
 "nbformat": 4,
 "nbformat_minor": 4
}
